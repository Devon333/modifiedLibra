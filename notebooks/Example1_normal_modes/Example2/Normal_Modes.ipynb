{
 "cells": [
  {
   "cell_type": "markdown",
   "metadata": {},
   "source": [
    "First, import all the necessary libraries:\n",
    "* liblibra_core - for general data types from Libra\n",
    "* libra_py - for the normal modes module\n",
    "* py3Dmol - for visualization\n",
    "\n",
    "The output of the cell below will throw a bunch of warnings, but this is not a problem nothing really serios. So just disregard them."
   ]
  },
  {
   "cell_type": "code",
   "execution_count": 2,
   "metadata": {
    "scrolled": true
   },
   "outputs": [],
   "source": [
    "from liblibra_core import *\n",
    "from libra_py import *\n",
    "import math\n",
    "import py3Dmol"
   ]
  },
  {
   "cell_type": "markdown",
   "metadata": {},
   "source": [
    "In the next stage we will read in the .dyn files produces with the Phonon code of the QE suite. \n",
    "This is done with the *get_QE_normal_modes* function of the **QE_methods** module. This module focuses on processing data generated with Quantum Espresso (QE)  program.\n",
    "The function returns the following data:\n",
    "* E - element labels of all atoms in the system\n",
    "* R - coordinates of all atoms for all timesteps\n",
    "* U - the matrix of the normal modes \n",
    "\n",
    "The present directory contains 3 files with MD trajectories for 3 systems: \n",
    "* silicon.dyn1 - bulk silicon, note that the present coordinates are just fractional coordinates, also this is a periodic system so only the 2 atoms of a single unit cell are visualized. Note that this is for Gamma q-point. This module may not be working well for other q-points (with complex eigenvectors)\n",
    "* Cs4SnBr6_T200.dyn1 - one of the inorganic perovskite systems we have been looking at recently\n",
    "\n",
    "To do the calculations for the system of interest - uncomment one of the lines below and comment other 2. The selection of the system will of course affect how many modes will be available in the output after that."
   ]
  },
  {
   "cell_type": "code",
   "execution_count": 3,
   "metadata": {
    "scrolled": true
   },
   "outputs": [],
   "source": [
    "#E, R, U = QE_methods.get_QE_normal_modes(\"silicon.dyn1\")\n",
    "E, R, U = QE_methods.get_QE_normal_modes(\"Cs4SnBr6_T200.dyn1\")"
   ]
  },
  {
   "cell_type": "markdown",
   "metadata": {},
   "source": [
    "Now, we can select which normal mode to visualize. To help us with this, we will use the *get_xyz2* function in the **normal_modes.py** module. This function combines the geometry (at the first step) and the computed eigenvectors to produce the string with an xyz format data, suitable for visualization with py3Dmol. \n",
    "\n",
    "The variables to change are:\n",
    "* mode - index of the normal mode to visualize\n",
    "* ampl - the amplitude of magnification factor - just for a better visualization\n",
    "\n",
    "So, now lets see how the above data visualizes"
   ]
  },
  {
   "cell_type": "code",
   "execution_count": 4,
   "metadata": {
    "scrolled": false
   },
   "outputs": [
    {
     "data": {
      "application/3dmoljs_load.v0": "<div id=\"3dmolviewer_15657482043367383\"  style=\"position: relative; width: 800px; height: 400px\">\n        <p id=\"3dmolwarning_15657482043367383\" style=\"background-color:#ffcccc;color:black\">You appear to be running in JupyterLab (or JavaScript failed to load for some other reason).  You need to install the 3dmol extension: <br>\n        <tt>jupyter labextension install jupyterlab_3dmol</tt></p>\n        </div>\n<script>\n\nvar loadScriptAsync = function(uri){\n  return new Promise((resolve, reject) => {\n    var tag = document.createElement('script');\n    tag.src = uri;\n    tag.async = true;\n    tag.onload = () => {\n      resolve();\n    };\n  var firstScriptTag = document.getElementsByTagName('script')[0];\n  firstScriptTag.parentNode.insertBefore(tag, firstScriptTag);\n});\n};\n\nif(typeof $3Dmolpromise === 'undefined') {\n$3Dmolpromise = null;\n  $3Dmolpromise = loadScriptAsync('https://3dmol.csb.pitt.edu/build/3Dmol.js');\n}\n\nvar viewer_15657482043367383 = null;\nvar warn = document.getElementById(\"3dmolwarning_15657482043367383\");\nif(warn) {\n    warn.parentNode.removeChild(warn);\n}\n$3Dmolpromise.then(function() {\nviewer_15657482043367383 = $3Dmol.createViewer($(\"#3dmolviewer_15657482043367383\"),{backgroundColor:\"white\"});\n\tviewer_15657482043367383.addModel(\" 66\\nComment\\nCs  8.509  0.000  4.305  -0.010  -0.001  -0.010\\nCs  5.111  -0.000  12.914  -0.010  -0.001  -0.010\\nCs  -4.254  7.369  4.305  0.006  -0.009  -0.010\\nCs  -2.555  4.426  12.914  0.006  -0.009  -0.010\\nCs  2.555  4.426  4.305  0.004  0.009  -0.010\\nCs  4.254  7.369  12.914  0.004  0.009  -0.010\\nCs  1.699  3.931  10.044  -0.039  -0.014  -0.005\\nCs  -1.699  3.932  1.435  0.008  0.032  -0.004\\nCs  2.555  11.300  10.044  0.032  -0.026  -0.005\\nCs  4.254  8.357  1.435  -0.032  -0.010  -0.004\\nCs  -4.254  8.357  10.044  0.007  0.041  -0.005\\nCs  -2.555  11.300  1.435  0.024  -0.023  -0.004\\nCs  8.509  7.863  15.784  0.008  0.032  -0.004\\nCs  5.111  7.863  7.174  -0.039  -0.014  -0.005\\nCs  2.555  3.437  15.784  -0.032  -0.010  -0.004\\nCs  4.254  0.494  7.174  0.032  -0.026  -0.005\\nCs  9.365  0.494  15.784  0.024  -0.023  -0.004\\nCs  11.064  3.437  7.174  0.007  0.041  -0.005\\nCs  0.000  0.000  4.305  0.000  0.000  0.005\\nCs  0.000  0.000  12.914  0.000  0.000  0.005\\nCs  6.810  3.931  10.044  -0.000  0.000  -0.008\\nCs  6.810  3.931  1.435  0.000  -0.000  -0.010\\nCs  -0.000  7.863  15.784  0.000  -0.000  -0.010\\nCs  -0.000  7.863  7.174  -0.000  0.000  -0.008\\nSn  0.000  0.000  0.000  -0.000  0.000  0.015\\nSn  0.000  0.000  8.609  0.000  0.000  -0.011\\nSn  6.810  3.931  5.739  0.000  0.000  -0.013\\nSn  6.810  3.931  14.349  0.000  0.000  -0.010\\nSn  -0.000  7.863  11.479  0.000  0.000  -0.013\\nSn  -0.000  7.863  2.870  0.000  0.000  -0.010\\nBr  5.888  6.206  3.994  0.070  0.080  -0.073\\nBr  0.921  5.588  13.224  0.070  0.080  -0.073\\nBr  5.300  1.996  3.994  -0.105  0.021  -0.073\\nBr  1.509  9.798  13.224  -0.105  0.021  -0.073\\nBr  9.240  3.592  3.994  0.034  -0.101  -0.073\\nBr  -2.431  8.203  13.224  0.034  -0.101  -0.073\\nBr  2.431  8.203  4.615  0.117  0.007  -0.094\\nBr  4.379  3.592  12.604  0.117  0.007  -0.094\\nBr  -0.921  5.588  4.615  -0.052  -0.104  -0.094\\nBr  7.731  6.206  12.604  -0.052  -0.104  -0.094\\nBr  -1.509  9.798  4.615  -0.064  0.098  -0.094\\nBr  8.319  1.996  12.604  -0.064  0.098  -0.094\\nBr  -0.921  10.138  9.734  0.067  0.036  -0.107\\nBr  7.731  9.520  1.745  0.070  -0.018  -0.035\\nBr  -1.509  5.928  9.734  -0.064  0.040  -0.107\\nBr  1.509  1.935  1.745  -0.020  0.070  -0.035\\nBr  2.431  7.523  9.734  -0.002  -0.076  -0.107\\nBr  11.189  0.340  1.745  -0.051  -0.052  -0.035\\nBr  2.431  0.340  10.354  0.193  -0.220  0.121\\nBr  -2.431  7.523  1.125  0.005  -0.016  0.004\\nBr  5.888  9.520  10.354  -0.287  -0.057  0.121\\nBr  0.921  10.138  1.125  -0.016  0.004  0.004\\nBr  12.110  1.935  10.354  0.094  0.277  0.121\\nBr  1.509  5.928  1.125  0.011  0.012  0.004\\nBr  -0.921  2.275  15.473  0.070  -0.018  -0.035\\nBr  7.731  1.657  7.485  0.067  0.036  -0.107\\nBr  5.300  9.859  15.473  -0.020  0.070  -0.035\\nBr  8.319  5.867  7.485  -0.064  0.040  -0.107\\nBr  -4.379  11.455  15.473  -0.051  -0.052  -0.035\\nBr  4.379  4.271  7.485  -0.002  -0.076  -0.107\\nBr  9.240  4.271  16.094  0.005  -0.016  0.004\\nBr  4.379  11.455  6.864  0.193  -0.220  0.121\\nBr  5.888  1.657  16.094  -0.016  0.004  0.004\\nBr  0.921  2.275  6.864  -0.287  -0.057  0.121\\nBr  5.300  5.867  16.094  0.011  0.012  0.004\\nBr  -5.300  9.859  6.864  0.094  0.277  0.121\\n\",\"xyz\",{\"vibrate\": {\"frames\": 10, \"amplitude\": 10}});\n\tviewer_15657482043367383.setBackgroundColor(\"0xeeeeee\");\n\tviewer_15657482043367383.setStyle({\"sphere\": {}});\n\tviewer_15657482043367383.animate({\"loop\": \"backAndForth\"});\n\tviewer_15657482043367383.zoomTo();\nviewer_15657482043367383.render();\n});\n</script>",
      "text/html": [
       "<div id=\"3dmolviewer_15657482043367383\"  style=\"position: relative; width: 800px; height: 400px\">\n",
       "        <p id=\"3dmolwarning_15657482043367383\" style=\"background-color:#ffcccc;color:black\">You appear to be running in JupyterLab (or JavaScript failed to load for some other reason).  You need to install the 3dmol extension: <br>\n",
       "        <tt>jupyter labextension install jupyterlab_3dmol</tt></p>\n",
       "        </div>\n",
       "<script>\n",
       "\n",
       "var loadScriptAsync = function(uri){\n",
       "  return new Promise((resolve, reject) => {\n",
       "    var tag = document.createElement('script');\n",
       "    tag.src = uri;\n",
       "    tag.async = true;\n",
       "    tag.onload = () => {\n",
       "      resolve();\n",
       "    };\n",
       "  var firstScriptTag = document.getElementsByTagName('script')[0];\n",
       "  firstScriptTag.parentNode.insertBefore(tag, firstScriptTag);\n",
       "});\n",
       "};\n",
       "\n",
       "if(typeof $3Dmolpromise === 'undefined') {\n",
       "$3Dmolpromise = null;\n",
       "  $3Dmolpromise = loadScriptAsync('https://3dmol.csb.pitt.edu/build/3Dmol.js');\n",
       "}\n",
       "\n",
       "var viewer_15657482043367383 = null;\n",
       "var warn = document.getElementById(\"3dmolwarning_15657482043367383\");\n",
       "if(warn) {\n",
       "    warn.parentNode.removeChild(warn);\n",
       "}\n",
       "$3Dmolpromise.then(function() {\n",
       "viewer_15657482043367383 = $3Dmol.createViewer($(\"#3dmolviewer_15657482043367383\"),{backgroundColor:\"white\"});\n",
       "\tviewer_15657482043367383.addModel(\" 66\\nComment\\nCs  8.509  0.000  4.305  -0.010  -0.001  -0.010\\nCs  5.111  -0.000  12.914  -0.010  -0.001  -0.010\\nCs  -4.254  7.369  4.305  0.006  -0.009  -0.010\\nCs  -2.555  4.426  12.914  0.006  -0.009  -0.010\\nCs  2.555  4.426  4.305  0.004  0.009  -0.010\\nCs  4.254  7.369  12.914  0.004  0.009  -0.010\\nCs  1.699  3.931  10.044  -0.039  -0.014  -0.005\\nCs  -1.699  3.932  1.435  0.008  0.032  -0.004\\nCs  2.555  11.300  10.044  0.032  -0.026  -0.005\\nCs  4.254  8.357  1.435  -0.032  -0.010  -0.004\\nCs  -4.254  8.357  10.044  0.007  0.041  -0.005\\nCs  -2.555  11.300  1.435  0.024  -0.023  -0.004\\nCs  8.509  7.863  15.784  0.008  0.032  -0.004\\nCs  5.111  7.863  7.174  -0.039  -0.014  -0.005\\nCs  2.555  3.437  15.784  -0.032  -0.010  -0.004\\nCs  4.254  0.494  7.174  0.032  -0.026  -0.005\\nCs  9.365  0.494  15.784  0.024  -0.023  -0.004\\nCs  11.064  3.437  7.174  0.007  0.041  -0.005\\nCs  0.000  0.000  4.305  0.000  0.000  0.005\\nCs  0.000  0.000  12.914  0.000  0.000  0.005\\nCs  6.810  3.931  10.044  -0.000  0.000  -0.008\\nCs  6.810  3.931  1.435  0.000  -0.000  -0.010\\nCs  -0.000  7.863  15.784  0.000  -0.000  -0.010\\nCs  -0.000  7.863  7.174  -0.000  0.000  -0.008\\nSn  0.000  0.000  0.000  -0.000  0.000  0.015\\nSn  0.000  0.000  8.609  0.000  0.000  -0.011\\nSn  6.810  3.931  5.739  0.000  0.000  -0.013\\nSn  6.810  3.931  14.349  0.000  0.000  -0.010\\nSn  -0.000  7.863  11.479  0.000  0.000  -0.013\\nSn  -0.000  7.863  2.870  0.000  0.000  -0.010\\nBr  5.888  6.206  3.994  0.070  0.080  -0.073\\nBr  0.921  5.588  13.224  0.070  0.080  -0.073\\nBr  5.300  1.996  3.994  -0.105  0.021  -0.073\\nBr  1.509  9.798  13.224  -0.105  0.021  -0.073\\nBr  9.240  3.592  3.994  0.034  -0.101  -0.073\\nBr  -2.431  8.203  13.224  0.034  -0.101  -0.073\\nBr  2.431  8.203  4.615  0.117  0.007  -0.094\\nBr  4.379  3.592  12.604  0.117  0.007  -0.094\\nBr  -0.921  5.588  4.615  -0.052  -0.104  -0.094\\nBr  7.731  6.206  12.604  -0.052  -0.104  -0.094\\nBr  -1.509  9.798  4.615  -0.064  0.098  -0.094\\nBr  8.319  1.996  12.604  -0.064  0.098  -0.094\\nBr  -0.921  10.138  9.734  0.067  0.036  -0.107\\nBr  7.731  9.520  1.745  0.070  -0.018  -0.035\\nBr  -1.509  5.928  9.734  -0.064  0.040  -0.107\\nBr  1.509  1.935  1.745  -0.020  0.070  -0.035\\nBr  2.431  7.523  9.734  -0.002  -0.076  -0.107\\nBr  11.189  0.340  1.745  -0.051  -0.052  -0.035\\nBr  2.431  0.340  10.354  0.193  -0.220  0.121\\nBr  -2.431  7.523  1.125  0.005  -0.016  0.004\\nBr  5.888  9.520  10.354  -0.287  -0.057  0.121\\nBr  0.921  10.138  1.125  -0.016  0.004  0.004\\nBr  12.110  1.935  10.354  0.094  0.277  0.121\\nBr  1.509  5.928  1.125  0.011  0.012  0.004\\nBr  -0.921  2.275  15.473  0.070  -0.018  -0.035\\nBr  7.731  1.657  7.485  0.067  0.036  -0.107\\nBr  5.300  9.859  15.473  -0.020  0.070  -0.035\\nBr  8.319  5.867  7.485  -0.064  0.040  -0.107\\nBr  -4.379  11.455  15.473  -0.051  -0.052  -0.035\\nBr  4.379  4.271  7.485  -0.002  -0.076  -0.107\\nBr  9.240  4.271  16.094  0.005  -0.016  0.004\\nBr  4.379  11.455  6.864  0.193  -0.220  0.121\\nBr  5.888  1.657  16.094  -0.016  0.004  0.004\\nBr  0.921  2.275  6.864  -0.287  -0.057  0.121\\nBr  5.300  5.867  16.094  0.011  0.012  0.004\\nBr  -5.300  9.859  6.864  0.094  0.277  0.121\\n\",\"xyz\",{\"vibrate\": {\"frames\": 10, \"amplitude\": 10}});\n",
       "\tviewer_15657482043367383.setBackgroundColor(\"0xeeeeee\");\n",
       "\tviewer_15657482043367383.setStyle({\"sphere\": {}});\n",
       "\tviewer_15657482043367383.animate({\"loop\": \"backAndForth\"});\n",
       "\tviewer_15657482043367383.zoomTo();\n",
       "viewer_15657482043367383.render();\n",
       "});\n",
       "</script>"
      ]
     },
     "metadata": {},
     "output_type": "display_data"
    }
   ],
   "source": [
    "mode = 100\n",
    "ampl = 10\n",
    "\n",
    "# Method 1\n",
    "xyz = normal_modes.get_xyz2(E,R, U, mode)  # velocity covariance\n",
    "\n",
    "view = py3Dmol.view(width=800,height=400)\n",
    "view.addModel(xyz,'xyz',{'vibrate': {'frames':10,'amplitude':ampl}}, viewer=(0,0))\n",
    "view.setBackgroundColor('0xeeeeee')\n",
    "view.setStyle({'sphere':{}})\n",
    "view.animate({'loop': 'backAndForth'})\n",
    "view.zoomTo()\n",
    "view.show()"
   ]
  },
  {
   "cell_type": "code",
   "execution_count": null,
   "metadata": {},
   "outputs": [],
   "source": []
  }
 ],
 "metadata": {
  "kernelspec": {
   "display_name": "Python 3",
   "language": "python",
   "name": "python3"
  },
  "language_info": {
   "codemirror_mode": {
    "name": "ipython",
    "version": 3
   },
   "file_extension": ".py",
   "mimetype": "text/x-python",
   "name": "python",
   "nbconvert_exporter": "python",
   "pygments_lexer": "ipython3",
   "version": "3.7.3"
  }
 },
 "nbformat": 4,
 "nbformat_minor": 2
}
