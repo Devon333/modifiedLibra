{
 "cells": [
  {
   "cell_type": "markdown",
   "metadata": {},
   "source": [
    "First, import all the necessary libraries:\n",
    "* liblibra_core - for general data types from Libra\n",
    "* libra_py - for the normal modes module\n",
    "* py3Dmol - for visualization\n",
    "\n",
    "The output of the cell below will throw a bunch of warnings, but this is not a problem nothing really serios. So just disregard them."
   ]
  },
  {
   "cell_type": "code",
   "execution_count": 13,
   "metadata": {
    "scrolled": true
   },
   "outputs": [],
   "source": [
    "from liblibra_core import *\n",
    "from libra_py import *\n",
    "import math\n",
    "import py3Dmol"
   ]
  },
  {
   "cell_type": "markdown",
   "metadata": {},
   "source": [
    "In the next stage - we will read in the MD trajectory stored in an XML file. \n",
    "This is done with the *read_md_data* function of the **QE_methods** module. This module focuses on processing data generated with Quantum Espresso (QE)  program.\n",
    "The function returns the following data:\n",
    "* R - coordinates of all atoms for all timesteps\n",
    "* V - velocities of all atoms for all timesteps \n",
    "* A - accelerations of all atoms for all timesteps\n",
    "* M - masses of all degrees of freedom (DOFs). \n",
    "* E - element labels of all atoms in the system\n",
    "\n",
    "The present directory contains 3 files with MD trajectories for 3 systems: \n",
    "* x0.xml - Si8 cluster\n",
    "* x0_co2.xml - CO2 molecule\n",
    "* x0_h2.xml - H2 molecule\n",
    "\n",
    "To do the calculations for the system of interest - uncomment one of the lines below and comment other 2. The selection of the system will of course affect how many modes will be available in the output after that."
   ]
  },
  {
   "cell_type": "code",
   "execution_count": 14,
   "metadata": {
    "scrolled": true
   },
   "outputs": [],
   "source": [
    "#R, V, A, M, E = QE_methods.read_md_data(\"x0.xml\")\n",
    "R, V, A, M, E = QE_methods.read_md_data(\"x0_co2.xml\")\n",
    "#R, V, A, M, E = QE_methods.read_md_data(\"x0_h2.xml\")"
   ]
  },
  {
   "cell_type": "markdown",
   "metadata": {},
   "source": [
    "The following line sets up a parameters dictionary. The key-value pairs are as follows:\n",
    "\n",
    "* visualize - determines whether we want to produce an xyz file that \"visualizes\" th selected normal modes. In the present example, we set this variable to 0, because we don't want those files. Instead, all the visualization will be done in this notebook with the help of py3Dmol library.\n",
    "* verbosity - the level of messaging printed out in the noraml modes calculations. With the selection (0), we don't print out any messages to not spoil with output. This could be useful for debugging and such. \n",
    "\n",
    "With the present selection of the *visualize* variable, the rest of the parameters won't really matter, but I explain them here:\n",
    "* prefix - the filename where the xyz \"normal mode trajectory\" will be printed out\n",
    "* nsteps - how many steps of such visualization dynamics to do\n",
    "* nperiods - for how many times to period the visualization dynamics\n",
    "* scale - the factor that scales the normal modes' amplitudes"
   ]
  },
  {
   "cell_type": "code",
   "execution_count": 15,
   "metadata": {},
   "outputs": [],
   "source": [
    "params = {\"visualize\":0, \"verbosity\":0, \"prefix\":\"\", \"nsteps\":100, \"nperiods\":1, \"scale\":250.0}"
   ]
  },
  {
   "cell_type": "markdown",
   "metadata": {},
   "source": [
    "Now, we are ready to use the MD data which we have read from the XML file and compute the normal modes according to several methods. In these calculations all the parameters will be the same, except for one:\n",
    "\n",
    "* cov_flag - this flag controls whether we want to use the property's fluctuation or the property itself. For instance, whether we'll be using the atomis velocities as they are of if the average velocities should be first subtracted from the instantaneous values. Note, the original papers describing the methods below talk about the atomic properties (e.g. velocities) themselves rather than about their fluctuations, so the **cov_flag = 0** would be the preferable choice. "
   ]
  },
  {
   "cell_type": "markdown",
   "metadata": {},
   "source": [
    "### Method 1:\n",
    "\n",
    "Strachan, A. Normal Modes and Frequencies from Covariances in Molecular Dynamics \n",
    "    or Monte Carlo Simulation. *J. Chem. Phys.* **2003**, 120, 1-4.\n",
    "    \n",
    "In the following 2 calls *res* is a tuple (w, w_inv_cm, U_v,  w2, w2_inv_cm, U_a)"
   ]
  },
  {
   "cell_type": "code",
   "execution_count": 16,
   "metadata": {},
   "outputs": [],
   "source": [
    "params.update({\"cov_flag\":0})\n",
    "res00 = normal_modes.compute_cov( R, V, A, M, E, params)"
   ]
  },
  {
   "cell_type": "markdown",
   "metadata": {},
   "source": [
    "Another option is to use data centered around the averages (fluctuations)"
   ]
  },
  {
   "cell_type": "code",
   "execution_count": 17,
   "metadata": {},
   "outputs": [],
   "source": [
    "params.update({\"cov_flag\":1})\n",
    "res01 = normal_modes.compute_cov( R, V, A, M, E, params)"
   ]
  },
  {
   "cell_type": "markdown",
   "metadata": {},
   "source": [
    "### Method 2:\n",
    "Pereverzev, A.; Sewell, T. D. Obtaining the Hessian from the Force Covariance Matrix:\n",
    "    Application to Crystalline Explosives PETN and RDX. *J. Chem. Phys*. **2015**, 142, 134110.\n",
    "    \n",
    "In the following 2 calls *res* is a tuple (w_a, w_inv_cm, U_a)\n",
    "Again, without centering:"
   ]
  },
  {
   "cell_type": "code",
   "execution_count": 18,
   "metadata": {},
   "outputs": [],
   "source": [
    "params.update({\"cov_flag\":0})\n",
    "res20 = normal_modes.compute_cov2( R, A, M, E, 300.0, params)"
   ]
  },
  {
   "cell_type": "markdown",
   "metadata": {},
   "source": [
    "With the centering:"
   ]
  },
  {
   "cell_type": "code",
   "execution_count": 19,
   "metadata": {},
   "outputs": [],
   "source": [
    "params.update({\"cov_flag\":1})\n",
    "res21 = normal_modes.compute_cov2( R, A, M, E, 300.0, params)"
   ]
  },
  {
   "cell_type": "markdown",
   "metadata": {},
   "source": [
    "Lets see what different methods give for frequencies. Note that for each of the options in the method 1 there are 2 types of the eigenvalues/eigenvectors: based on velocity covariance matrix and on the acceleration covariance matrix. For the options in the method 2 there is only 1 type of covariance matrix. So, in all, we have 6 combinations:"
   ]
  },
  {
   "cell_type": "code",
   "execution_count": 20,
   "metadata": {},
   "outputs": [
    {
     "name": "stdout",
     "output_type": "stream",
     "text": [
      "Mode 0    1681    897   1272   1203      0      0  cm^{-1}\n",
      "Mode 1      13     79      0      0      0      0  cm^{-1}\n",
      "Mode 2       0      0    420   1131      0      0  cm^{-1}\n",
      "Mode 3    2675    353   3408    398      0      0  cm^{-1}\n",
      "Mode 4    1201    257   2076    337      0      0  cm^{-1}\n",
      "Mode 5    1186    918   1245    893      5      4  cm^{-1}\n",
      "Mode 6     708    772   1218    952      6      5  cm^{-1}\n",
      "Mode 7     507    911    713   1076     10     10  cm^{-1}\n",
      "Mode 8       9    162    527   1244     21     21  cm^{-1}\n"
     ]
    }
   ],
   "source": [
    "ndof = R.num_of_rows\n",
    "for i in range(ndof):\n",
    "    print(\"Mode %i   %5.0f  %5.0f  %5.0f  %5.0f  %5.0f  %5.0f  cm^{-1}\" % (i, res00[1].get(i), res00[4].get(i), res01[1].get(i), res01[4].get(i), res20[1].get(i), res21[1].get(i)) )\n",
    "    "
   ]
  },
  {
   "cell_type": "markdown",
   "metadata": {},
   "source": [
    "Now, we can select which normal mode to visualize. To help us with this, we will use the *get_xyz* function in the **normal_modes.py** module. This function combines the geometry (at the first step) and the computed eigenvectors to produce the string with an xyz format data, suitable for visualization with py3Dmol. \n",
    "\n",
    "The variables to change are:\n",
    "* mode - index of the normal mode to visualize\n",
    "* ampl - the amplitude of magnification factor - just for a better visualization\n",
    "\n",
    "So, now lets see what the above 6 combinations give us for the modes we have computed"
   ]
  },
  {
   "cell_type": "code",
   "execution_count": 21,
   "metadata": {},
   "outputs": [
    {
     "data": {
      "application/3dmoljs_load.v0": "<div id=\"3dmolviewer_15657473511516206\"  style=\"position: relative; width: 800px; height: 400px\">\n        <p id=\"3dmolwarning_15657473511516206\" style=\"background-color:#ffcccc;color:black\">You appear to be running in JupyterLab (or JavaScript failed to load for some other reason).  You need to install the 3dmol extension: <br>\n        <tt>jupyter labextension install jupyterlab_3dmol</tt></p>\n        </div>\n<script>\n\nvar loadScriptAsync = function(uri){\n  return new Promise((resolve, reject) => {\n    var tag = document.createElement('script');\n    tag.src = uri;\n    tag.async = true;\n    tag.onload = () => {\n      resolve();\n    };\n  var firstScriptTag = document.getElementsByTagName('script')[0];\n  firstScriptTag.parentNode.insertBefore(tag, firstScriptTag);\n});\n};\n\nif(typeof $3Dmolpromise === 'undefined') {\n$3Dmolpromise = null;\n  $3Dmolpromise = loadScriptAsync('https://3dmol.csb.pitt.edu/build/3Dmol.js');\n}\n\nvar viewer_15657473511516206 = null;\nvar warn = document.getElementById(\"3dmolwarning_15657473511516206\");\nif(warn) {\n    warn.parentNode.removeChild(warn);\n}\n$3Dmolpromise.then(function() {\nvar viewergrid_15657473511516206 = null;\nviewergrid_15657473511516206 = $3Dmol.createViewerGrid($(\"#3dmolviewer_15657473511516206\"),{rows: 3, cols: 2, control_all: false},{backgroundColor:\"white\"});\nviewer_15657473511516206 = viewergrid_15657473511516206[0][0];\n\tviewergrid_15657473511516206[0][0].addModel(\"  3\\nComment\\nC  -0.951  1.955  -0.005  0.000  0.003  -0.000\\nO  1.299  1.897  -0.004  0.000  0.003  -0.000\\nO  -3.213  1.997  0.008  0.000  0.003  -0.000\\n\",\"xyz\",{\"vibrate\": {\"frames\": 10, \"amplitude\": 500}});\n\tviewergrid_15657473511516206[0][1].addModel(\"  3\\nComment\\nC  -0.951  1.955  -0.005  -0.000  -0.001  -0.003\\nO  1.299  1.897  -0.004  -0.000  -0.001  -0.003\\nO  -3.213  1.997  0.008  -0.000  -0.001  -0.003\\n\",\"xyz\",{\"vibrate\": {\"frames\": 10, \"amplitude\": 500}});\n\tviewergrid_15657473511516206[1][0].addModel(\"  3\\nComment\\nC  -0.951  1.955  -0.005  -0.000  -0.002  -0.000\\nO  1.299  1.897  -0.004  -0.000  -0.002  -0.000\\nO  -3.213  1.997  0.008  -0.000  -0.002  -0.000\\n\",\"xyz\",{\"vibrate\": {\"frames\": 10, \"amplitude\": 500}});\n\tviewergrid_15657473511516206[1][1].addModel(\"  3\\nComment\\nC  -0.951  1.955  -0.005  -0.000  -0.000  0.004\\nO  1.299  1.897  -0.004  -0.000  -0.000  0.004\\nO  -3.213  1.997  0.008  -0.000  -0.000  0.004\\n\",\"xyz\",{\"vibrate\": {\"frames\": 10, \"amplitude\": 500}});\n\tviewergrid_15657473511516206[2][0].addModel(\"  3\\nComment\\nC  -0.951  1.955  -0.005  0.000  0.001  -0.003\\nO  1.299  1.897  -0.004  0.000  0.001  -0.003\\nO  -3.213  1.997  0.008  0.000  0.001  -0.003\\n\",\"xyz\",{\"vibrate\": {\"frames\": 10, \"amplitude\": 500}});\n\tviewergrid_15657473511516206[2][1].addModel(\"  3\\nComment\\nC  -0.951  1.955  -0.005  0.000  0.000  -0.003\\nO  1.299  1.897  -0.004  0.000  0.000  -0.004\\nO  -3.213  1.997  0.008  0.000  0.000  -0.004\\n\",\"xyz\",{\"vibrate\": {\"frames\": 10, \"amplitude\": 500}});\n\tviewergrid_15657473511516206[0][0].setBackgroundColor(\"0xeeeeee\");\n\tviewergrid_15657473511516206[0][1].setBackgroundColor(\"0xeeeeee\");\n\tviewergrid_15657473511516206[1][0].setBackgroundColor(\"0xeeeeee\");\n\tviewergrid_15657473511516206[1][1].setBackgroundColor(\"0xeeeeee\");\n\tviewergrid_15657473511516206[2][0].setBackgroundColor(\"0xeeeeee\");\n\tviewergrid_15657473511516206[2][1].setBackgroundColor(\"0xeeeeee\");\n\tviewergrid_15657473511516206[0][0].setStyle({\"sphere\": {}});\n\tviewergrid_15657473511516206[0][1].setStyle({\"sphere\": {}});\n\tviewergrid_15657473511516206[1][0].setStyle({\"sphere\": {}});\n\tviewergrid_15657473511516206[1][1].setStyle({\"sphere\": {}});\n\tviewergrid_15657473511516206[2][0].setStyle({\"sphere\": {}});\n\tviewergrid_15657473511516206[2][1].setStyle({\"sphere\": {}});\n\tviewergrid_15657473511516206[0][0].animate({\"loop\": \"backAndForth\"});\n\tviewergrid_15657473511516206[0][1].animate({\"loop\": \"backAndForth\"});\n\tviewergrid_15657473511516206[1][0].animate({\"loop\": \"backAndForth\"});\n\tviewergrid_15657473511516206[1][1].animate({\"loop\": \"backAndForth\"});\n\tviewergrid_15657473511516206[2][0].animate({\"loop\": \"backAndForth\"});\n\tviewergrid_15657473511516206[2][1].animate({\"loop\": \"backAndForth\"});\n\tviewergrid_15657473511516206[0][0].zoomTo();\n\tviewergrid_15657473511516206[0][1].zoomTo();\n\tviewergrid_15657473511516206[1][0].zoomTo();\n\tviewergrid_15657473511516206[1][1].zoomTo();\n\tviewergrid_15657473511516206[2][0].zoomTo();\n\tviewergrid_15657473511516206[2][1].zoomTo();\nviewergrid_15657473511516206[2][1].render();\nviewergrid_15657473511516206[2][0].render();\nviewergrid_15657473511516206[1][1].render();\nviewergrid_15657473511516206[1][0].render();\nviewergrid_15657473511516206[0][1].render();\nviewergrid_15657473511516206[0][0].render();\n});\n</script>",
      "text/html": [
       "<div id=\"3dmolviewer_15657473511516206\"  style=\"position: relative; width: 800px; height: 400px\">\n",
       "        <p id=\"3dmolwarning_15657473511516206\" style=\"background-color:#ffcccc;color:black\">You appear to be running in JupyterLab (or JavaScript failed to load for some other reason).  You need to install the 3dmol extension: <br>\n",
       "        <tt>jupyter labextension install jupyterlab_3dmol</tt></p>\n",
       "        </div>\n",
       "<script>\n",
       "\n",
       "var loadScriptAsync = function(uri){\n",
       "  return new Promise((resolve, reject) => {\n",
       "    var tag = document.createElement('script');\n",
       "    tag.src = uri;\n",
       "    tag.async = true;\n",
       "    tag.onload = () => {\n",
       "      resolve();\n",
       "    };\n",
       "  var firstScriptTag = document.getElementsByTagName('script')[0];\n",
       "  firstScriptTag.parentNode.insertBefore(tag, firstScriptTag);\n",
       "});\n",
       "};\n",
       "\n",
       "if(typeof $3Dmolpromise === 'undefined') {\n",
       "$3Dmolpromise = null;\n",
       "  $3Dmolpromise = loadScriptAsync('https://3dmol.csb.pitt.edu/build/3Dmol.js');\n",
       "}\n",
       "\n",
       "var viewer_15657473511516206 = null;\n",
       "var warn = document.getElementById(\"3dmolwarning_15657473511516206\");\n",
       "if(warn) {\n",
       "    warn.parentNode.removeChild(warn);\n",
       "}\n",
       "$3Dmolpromise.then(function() {\n",
       "var viewergrid_15657473511516206 = null;\n",
       "viewergrid_15657473511516206 = $3Dmol.createViewerGrid($(\"#3dmolviewer_15657473511516206\"),{rows: 3, cols: 2, control_all: false},{backgroundColor:\"white\"});\n",
       "viewer_15657473511516206 = viewergrid_15657473511516206[0][0];\n",
       "\tviewergrid_15657473511516206[0][0].addModel(\"  3\\nComment\\nC  -0.951  1.955  -0.005  0.000  0.003  -0.000\\nO  1.299  1.897  -0.004  0.000  0.003  -0.000\\nO  -3.213  1.997  0.008  0.000  0.003  -0.000\\n\",\"xyz\",{\"vibrate\": {\"frames\": 10, \"amplitude\": 500}});\n",
       "\tviewergrid_15657473511516206[0][1].addModel(\"  3\\nComment\\nC  -0.951  1.955  -0.005  -0.000  -0.001  -0.003\\nO  1.299  1.897  -0.004  -0.000  -0.001  -0.003\\nO  -3.213  1.997  0.008  -0.000  -0.001  -0.003\\n\",\"xyz\",{\"vibrate\": {\"frames\": 10, \"amplitude\": 500}});\n",
       "\tviewergrid_15657473511516206[1][0].addModel(\"  3\\nComment\\nC  -0.951  1.955  -0.005  -0.000  -0.002  -0.000\\nO  1.299  1.897  -0.004  -0.000  -0.002  -0.000\\nO  -3.213  1.997  0.008  -0.000  -0.002  -0.000\\n\",\"xyz\",{\"vibrate\": {\"frames\": 10, \"amplitude\": 500}});\n",
       "\tviewergrid_15657473511516206[1][1].addModel(\"  3\\nComment\\nC  -0.951  1.955  -0.005  -0.000  -0.000  0.004\\nO  1.299  1.897  -0.004  -0.000  -0.000  0.004\\nO  -3.213  1.997  0.008  -0.000  -0.000  0.004\\n\",\"xyz\",{\"vibrate\": {\"frames\": 10, \"amplitude\": 500}});\n",
       "\tviewergrid_15657473511516206[2][0].addModel(\"  3\\nComment\\nC  -0.951  1.955  -0.005  0.000  0.001  -0.003\\nO  1.299  1.897  -0.004  0.000  0.001  -0.003\\nO  -3.213  1.997  0.008  0.000  0.001  -0.003\\n\",\"xyz\",{\"vibrate\": {\"frames\": 10, \"amplitude\": 500}});\n",
       "\tviewergrid_15657473511516206[2][1].addModel(\"  3\\nComment\\nC  -0.951  1.955  -0.005  0.000  0.000  -0.003\\nO  1.299  1.897  -0.004  0.000  0.000  -0.004\\nO  -3.213  1.997  0.008  0.000  0.000  -0.004\\n\",\"xyz\",{\"vibrate\": {\"frames\": 10, \"amplitude\": 500}});\n",
       "\tviewergrid_15657473511516206[0][0].setBackgroundColor(\"0xeeeeee\");\n",
       "\tviewergrid_15657473511516206[0][1].setBackgroundColor(\"0xeeeeee\");\n",
       "\tviewergrid_15657473511516206[1][0].setBackgroundColor(\"0xeeeeee\");\n",
       "\tviewergrid_15657473511516206[1][1].setBackgroundColor(\"0xeeeeee\");\n",
       "\tviewergrid_15657473511516206[2][0].setBackgroundColor(\"0xeeeeee\");\n",
       "\tviewergrid_15657473511516206[2][1].setBackgroundColor(\"0xeeeeee\");\n",
       "\tviewergrid_15657473511516206[0][0].setStyle({\"sphere\": {}});\n",
       "\tviewergrid_15657473511516206[0][1].setStyle({\"sphere\": {}});\n",
       "\tviewergrid_15657473511516206[1][0].setStyle({\"sphere\": {}});\n",
       "\tviewergrid_15657473511516206[1][1].setStyle({\"sphere\": {}});\n",
       "\tviewergrid_15657473511516206[2][0].setStyle({\"sphere\": {}});\n",
       "\tviewergrid_15657473511516206[2][1].setStyle({\"sphere\": {}});\n",
       "\tviewergrid_15657473511516206[0][0].animate({\"loop\": \"backAndForth\"});\n",
       "\tviewergrid_15657473511516206[0][1].animate({\"loop\": \"backAndForth\"});\n",
       "\tviewergrid_15657473511516206[1][0].animate({\"loop\": \"backAndForth\"});\n",
       "\tviewergrid_15657473511516206[1][1].animate({\"loop\": \"backAndForth\"});\n",
       "\tviewergrid_15657473511516206[2][0].animate({\"loop\": \"backAndForth\"});\n",
       "\tviewergrid_15657473511516206[2][1].animate({\"loop\": \"backAndForth\"});\n",
       "\tviewergrid_15657473511516206[0][0].zoomTo();\n",
       "\tviewergrid_15657473511516206[0][1].zoomTo();\n",
       "\tviewergrid_15657473511516206[1][0].zoomTo();\n",
       "\tviewergrid_15657473511516206[1][1].zoomTo();\n",
       "\tviewergrid_15657473511516206[2][0].zoomTo();\n",
       "\tviewergrid_15657473511516206[2][1].zoomTo();\n",
       "viewergrid_15657473511516206[2][1].render();\n",
       "viewergrid_15657473511516206[2][0].render();\n",
       "viewergrid_15657473511516206[1][1].render();\n",
       "viewergrid_15657473511516206[1][0].render();\n",
       "viewergrid_15657473511516206[0][1].render();\n",
       "viewergrid_15657473511516206[0][0].render();\n",
       "});\n",
       "</script>"
      ]
     },
     "metadata": {},
     "output_type": "display_data"
    }
   ],
   "source": [
    "mode = 0\n",
    "ampl = 500\n",
    "\n",
    "# Method 1\n",
    "xyz00v = normal_modes.get_xyz(E,R, M, res00[2], mode)  # velocity covariance\n",
    "xyz00a = normal_modes.get_xyz(E,R, M, res00[5], mode)  # acceleration covariance\n",
    "xyz01v = normal_modes.get_xyz(E,R, M, res01[2], mode)  # velocity fluctuation covariance\n",
    "xyz01a = normal_modes.get_xyz(E,R, M, res01[5], mode)  # acceleration fluctuation covariance\n",
    "\n",
    "# Method 2\n",
    "xyz20f = normal_modes.get_xyz(E,R, M, res20[2], mode)  # force covariance\n",
    "xyz21f = normal_modes.get_xyz(E,R, M, res21[2], mode)  # force fluctuation covariance\n",
    "\n",
    "\n",
    "view = py3Dmol.view(width=800,height=400, linked=False,viewergrid=(3,2))\n",
    "view.addModel(xyz00v,'xyz',{'vibrate': {'frames':10,'amplitude':ampl}}, viewer=(0,0))\n",
    "view.addModel(xyz01v,'xyz',{'vibrate': {'frames':10,'amplitude':ampl}}, viewer=(0,1))\n",
    "\n",
    "view.addModel(xyz00a,'xyz',{'vibrate': {'frames':10,'amplitude':ampl}}, viewer=(1,0))\n",
    "view.addModel(xyz01a,'xyz',{'vibrate': {'frames':10,'amplitude':ampl}}, viewer=(1,1))\n",
    "\n",
    "view.addModel(xyz20f,'xyz',{'vibrate': {'frames':10,'amplitude':ampl}}, viewer=(2,0))\n",
    "view.addModel(xyz21f,'xyz',{'vibrate': {'frames':10,'amplitude':ampl}}, viewer=(2,1))\n",
    "\n",
    "view.setBackgroundColor('0xeeeeee')\n",
    "view.setStyle({'sphere':{}})\n",
    "view.animate({'loop': 'backAndForth'})\n",
    "view.zoomTo()\n",
    "view.show()"
   ]
  },
  {
   "cell_type": "code",
   "execution_count": null,
   "metadata": {},
   "outputs": [],
   "source": []
  }
 ],
 "metadata": {
  "kernelspec": {
   "display_name": "Python 3",
   "language": "python",
   "name": "python3"
  },
  "language_info": {
   "codemirror_mode": {
    "name": "ipython",
    "version": 3
   },
   "file_extension": ".py",
   "mimetype": "text/x-python",
   "name": "python",
   "nbconvert_exporter": "python",
   "pygments_lexer": "ipython3",
   "version": "3.7.3"
  }
 },
 "nbformat": 4,
 "nbformat_minor": 2
}
