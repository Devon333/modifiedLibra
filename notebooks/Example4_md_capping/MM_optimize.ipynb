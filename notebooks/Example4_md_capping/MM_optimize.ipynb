{
 "cells": [
  {
   "cell_type": "code",
   "execution_count": 1,
   "metadata": {},
   "outputs": [
    {
     "name": "stderr",
     "output_type": "stream",
     "text": [
      "/home/alexey/miniconda2/envs/py37/lib/python3.7/importlib/_bootstrap.py:219: RuntimeWarning: to-Python converter for std::vector<std::complex<double>, std::allocator<std::complex<double> > > already registered; second conversion method ignored.\n",
      "  return f(*args, **kwds)\n",
      "/home/alexey/miniconda2/envs/py37/lib/python3.7/importlib/_bootstrap.py:219: RuntimeWarning: to-Python converter for std::vector<std::vector<int, std::allocator<int> >, std::allocator<std::vector<int, std::allocator<int> > > > already registered; second conversion method ignored.\n",
      "  return f(*args, **kwds)\n",
      "/home/alexey/miniconda2/envs/py37/lib/python3.7/importlib/_bootstrap.py:219: RuntimeWarning: to-Python converter for boost::python::detail::container_element<std::vector<std::vector<int, std::allocator<int> >, std::allocator<std::vector<int, std::allocator<int> > > >, unsigned long, boost::python::detail::final_vector_derived_policies<std::vector<std::vector<int, std::allocator<int> >, std::allocator<std::vector<int, std::allocator<int> > > >, false> > already registered; second conversion method ignored.\n",
      "  return f(*args, **kwds)\n",
      "/home/alexey/miniconda2/envs/py37/lib/python3.7/importlib/_bootstrap.py:219: RuntimeWarning: to-Python converter for std::vector<std::vector<float, std::allocator<float> >, std::allocator<std::vector<float, std::allocator<float> > > > already registered; second conversion method ignored.\n",
      "  return f(*args, **kwds)\n",
      "/home/alexey/miniconda2/envs/py37/lib/python3.7/importlib/_bootstrap.py:219: RuntimeWarning: to-Python converter for boost::python::detail::container_element<std::vector<std::vector<float, std::allocator<float> >, std::allocator<std::vector<float, std::allocator<float> > > >, unsigned long, boost::python::detail::final_vector_derived_policies<std::vector<std::vector<float, std::allocator<float> >, std::allocator<std::vector<float, std::allocator<float> > > >, false> > already registered; second conversion method ignored.\n",
      "  return f(*args, **kwds)\n",
      "/home/alexey/miniconda2/envs/py37/lib/python3.7/importlib/_bootstrap.py:219: RuntimeWarning: to-Python converter for std::vector<std::vector<double, std::allocator<double> >, std::allocator<std::vector<double, std::allocator<double> > > > already registered; second conversion method ignored.\n",
      "  return f(*args, **kwds)\n",
      "/home/alexey/miniconda2/envs/py37/lib/python3.7/importlib/_bootstrap.py:219: RuntimeWarning: to-Python converter for boost::python::detail::container_element<std::vector<std::vector<double, std::allocator<double> >, std::allocator<std::vector<double, std::allocator<double> > > >, unsigned long, boost::python::detail::final_vector_derived_policies<std::vector<std::vector<double, std::allocator<double> >, std::allocator<std::vector<double, std::allocator<double> > > >, false> > already registered; second conversion method ignored.\n",
      "  return f(*args, **kwds)\n",
      "/home/alexey/miniconda2/envs/py37/lib/python3.7/importlib/_bootstrap.py:219: RuntimeWarning: to-Python converter for boost::python::detail::container_element<std::vector<std::vector<std::complex<double>, std::allocator<std::complex<double> > >, std::allocator<std::vector<std::complex<double>, std::allocator<std::complex<double> > > > >, unsigned long, boost::python::detail::final_vector_derived_policies<std::vector<std::vector<std::complex<double>, std::allocator<std::complex<double> > >, std::allocator<std::vector<std::complex<double>, std::allocator<std::complex<double> > > > >, false> > already registered; second conversion method ignored.\n",
      "  return f(*args, **kwds)\n"
     ]
    }
   ],
   "source": [
    "import sys\n",
    "if sys.platform==\"cygwin\":\n",
    "    from cyglibra_core import *\n",
    "elif sys.platform==\"linux\" or sys.platform==\"linux2\":\n",
    "    from liblibra_core import *\n",
    "\n",
    "from libra_py import LoadPT\n",
    "from libra_py import LoadMolecule\n",
    "from libra_py import nve_md\n",
    "from libra_py import units\n",
    "\n",
    "import py3Dmol   # molecular visualization\n",
    "\n",
    "U = Universe()\n",
    "LoadPT.Load_PT(U, \"elements.dat\", 0)"
   ]
  },
  {
   "cell_type": "markdown",
   "metadata": {},
   "source": [
    "## 1. Regular optimization example\n",
    "\n",
    "\n",
    "Lets load the system from the file and save it as the first snapshot"
   ]
  },
  {
   "cell_type": "code",
   "execution_count": 2,
   "metadata": {},
   "outputs": [
    {
     "name": "stdout",
     "output_type": "stream",
     "text": [
      "24\n"
     ]
    }
   ],
   "source": [
    "syst = System()    \n",
    "LoadMolecule.Load_Molecule(U, syst, \"test1a.pdb\", \"pdb_1\")    \n",
    "\n",
    "xyz = nve_md.syst2xyz(syst)\n",
    "#print xyz"
   ]
  },
  {
   "cell_type": "markdown",
   "metadata": {},
   "source": [
    "Lets run the optimization recipe on this molecule and save the final snapshot"
   ]
  },
  {
   "cell_type": "code",
   "execution_count": 3,
   "metadata": {},
   "outputs": [],
   "source": [
    "nve_md.optimize_syst(syst, {})\n",
    "\n",
    "xyz2 = nve_md.syst2xyz(syst)\n",
    "#print xyz2"
   ]
  },
  {
   "cell_type": "markdown",
   "metadata": {},
   "source": [
    "Using the initial and final snapshots, lets animate the transition between the two structures"
   ]
  },
  {
   "cell_type": "code",
   "execution_count": 4,
   "metadata": {},
   "outputs": [
    {
     "data": {
      "application/3dmoljs_load.v0": "<div id=\"3dmolviewer_15657977074053307\"  style=\"position: relative; width: 800px; height: 400px\">\n        <p id=\"3dmolwarning_15657977074053307\" style=\"background-color:#ffcccc;color:black\">You appear to be running in JupyterLab (or JavaScript failed to load for some other reason).  You need to install the 3dmol extension: <br>\n        <tt>jupyter labextension install jupyterlab_3dmol</tt></p>\n        </div>\n<script>\n\nvar loadScriptAsync = function(uri){\n  return new Promise((resolve, reject) => {\n    var tag = document.createElement('script');\n    tag.src = uri;\n    tag.async = true;\n    tag.onload = () => {\n      resolve();\n    };\n  var firstScriptTag = document.getElementsByTagName('script')[0];\n  firstScriptTag.parentNode.insertBefore(tag, firstScriptTag);\n});\n};\n\nif(typeof $3Dmolpromise === 'undefined') {\n$3Dmolpromise = null;\n  $3Dmolpromise = loadScriptAsync('https://3dmol.csb.pitt.edu/build/3Dmol.js');\n}\n\nvar viewer_15657977074053307 = null;\nvar warn = document.getElementById(\"3dmolwarning_15657977074053307\");\nif(warn) {\n    warn.parentNode.removeChild(warn);\n}\n$3Dmolpromise.then(function() {\nviewer_15657977074053307 = $3Dmol.createViewer($(\"#3dmolviewer_15657977074053307\"),{backgroundColor:\"white\"});\n\tviewer_15657977074053307.setBackgroundColor(\"0xeeeeee\");\n\tviewer_15657977074053307.zoomTo();\n\tviewer_15657977074053307.addModelsAsFrames(\" 11 \\n\\nC  2.409 0.661 0.000\\nH  3.084 1.614 1.652\\nH  3.084 1.614 -1.652\\nH  0.387 0.661 0.000\\nC  3.379 -2.082 0.000\\nH  2.706 -3.035 -1.652\\nH  5.401 -2.082 -0.000\\nC  2.409 -3.454 2.375\\nH  3.086 -2.504 4.027\\nH  0.387 -3.451 2.377\\nF  3.256 -5.860 2.373\\n 11 \\n\\nC  2.423 0.670 -0.026\\nH  3.121 1.714 1.657\\nH  3.144 1.620 -1.752\\nH  0.324 0.727 -0.056\\nC  3.350 -2.059 0.033\\nH  2.667 -3.057 -1.684\\nH  5.450 -2.075 0.019\\nC  2.399 -3.438 2.381\\nH  3.095 -2.480 4.115\\nH  0.300 -3.464 2.406\\nF  3.274 -5.900 2.368\\n\",\"xyz\");\n\tviewer_15657977074053307.setStyle({\"sphere\": {\"colorscheme\": \"Jmol\"}});\n\tviewer_15657977074053307.animate({\"reps\": 0, \"loop\": \"backandforward\", \"step\": 1});\nviewer_15657977074053307.render();\n});\n</script>",
      "text/html": [
       "<div id=\"3dmolviewer_15657977074053307\"  style=\"position: relative; width: 800px; height: 400px\">\n",
       "        <p id=\"3dmolwarning_15657977074053307\" style=\"background-color:#ffcccc;color:black\">You appear to be running in JupyterLab (or JavaScript failed to load for some other reason).  You need to install the 3dmol extension: <br>\n",
       "        <tt>jupyter labextension install jupyterlab_3dmol</tt></p>\n",
       "        </div>\n",
       "<script>\n",
       "\n",
       "var loadScriptAsync = function(uri){\n",
       "  return new Promise((resolve, reject) => {\n",
       "    var tag = document.createElement('script');\n",
       "    tag.src = uri;\n",
       "    tag.async = true;\n",
       "    tag.onload = () => {\n",
       "      resolve();\n",
       "    };\n",
       "  var firstScriptTag = document.getElementsByTagName('script')[0];\n",
       "  firstScriptTag.parentNode.insertBefore(tag, firstScriptTag);\n",
       "});\n",
       "};\n",
       "\n",
       "if(typeof $3Dmolpromise === 'undefined') {\n",
       "$3Dmolpromise = null;\n",
       "  $3Dmolpromise = loadScriptAsync('https://3dmol.csb.pitt.edu/build/3Dmol.js');\n",
       "}\n",
       "\n",
       "var viewer_15657977074053307 = null;\n",
       "var warn = document.getElementById(\"3dmolwarning_15657977074053307\");\n",
       "if(warn) {\n",
       "    warn.parentNode.removeChild(warn);\n",
       "}\n",
       "$3Dmolpromise.then(function() {\n",
       "viewer_15657977074053307 = $3Dmol.createViewer($(\"#3dmolviewer_15657977074053307\"),{backgroundColor:\"white\"});\n",
       "\tviewer_15657977074053307.setBackgroundColor(\"0xeeeeee\");\n",
       "\tviewer_15657977074053307.zoomTo();\n",
       "\tviewer_15657977074053307.addModelsAsFrames(\" 11 \\n\\nC  2.409 0.661 0.000\\nH  3.084 1.614 1.652\\nH  3.084 1.614 -1.652\\nH  0.387 0.661 0.000\\nC  3.379 -2.082 0.000\\nH  2.706 -3.035 -1.652\\nH  5.401 -2.082 -0.000\\nC  2.409 -3.454 2.375\\nH  3.086 -2.504 4.027\\nH  0.387 -3.451 2.377\\nF  3.256 -5.860 2.373\\n 11 \\n\\nC  2.423 0.670 -0.026\\nH  3.121 1.714 1.657\\nH  3.144 1.620 -1.752\\nH  0.324 0.727 -0.056\\nC  3.350 -2.059 0.033\\nH  2.667 -3.057 -1.684\\nH  5.450 -2.075 0.019\\nC  2.399 -3.438 2.381\\nH  3.095 -2.480 4.115\\nH  0.300 -3.464 2.406\\nF  3.274 -5.900 2.368\\n\",\"xyz\");\n",
       "\tviewer_15657977074053307.setStyle({\"sphere\": {\"colorscheme\": \"Jmol\"}});\n",
       "\tviewer_15657977074053307.animate({\"reps\": 0, \"loop\": \"backandforward\", \"step\": 1});\n",
       "viewer_15657977074053307.render();\n",
       "});\n",
       "</script>"
      ]
     },
     "metadata": {},
     "output_type": "display_data"
    }
   ],
   "source": [
    "xyzall = xyz+xyz2\n",
    "\n",
    "view = py3Dmol.view(width=800,height=400)  # linked=False,viewergrid=(3,2)\\n\n",
    "view.setBackgroundColor('0xeeeeee')                                     \n",
    "view.zoomTo()                                                           \n",
    "view.addModelsAsFrames(xyzall, 'xyz')\n",
    "view.setStyle({'sphere':{'colorscheme':'Jmol', }})                        \n",
    "view.animate({'reps':0, 'loop':'backandforward', 'step':1})\n",
    "view.show() "
   ]
  },
  {
   "cell_type": "markdown",
   "metadata": {},
   "source": [
    "## 2. Capping example\n",
    "\n",
    "Lets do all the same, but for the system with F atom removed"
   ]
  },
  {
   "cell_type": "code",
   "execution_count": 5,
   "metadata": {},
   "outputs": [
    {
     "name": "stdout",
     "output_type": "stream",
     "text": [
      "22\n"
     ]
    }
   ],
   "source": [
    "syst = System()    \n",
    "LoadMolecule.Load_Molecule(U, syst, \"test1b.pdb\", \"pdb_1\")    \n",
    "xyz = nve_md.syst2xyz(syst)"
   ]
  },
  {
   "cell_type": "markdown",
   "metadata": {},
   "source": [
    "Now, lets try to attach a new atom and optimize the resulting structure\n",
    "\n",
    "Beware: if one optimizes the original structure and then add new atoms and optimize again - this doesn't work correctly.\n",
    "So, for now, we need to first guess the location of the capping atom first, then add it to the system and only then - optimize."
   ]
  },
  {
   "cell_type": "code",
   "execution_count": 6,
   "metadata": {},
   "outputs": [
    {
     "name": "stdout",
     "output_type": "stream",
     "text": [
      " 11 \n",
      "\n",
      "C  2.409 0.661 0.000\n",
      "H  3.084 1.614 1.652\n",
      "H  3.084 1.614 -1.652\n",
      "H  0.387 0.661 0.000\n",
      "C  3.379 -2.082 0.000\n",
      "H  2.706 -3.035 -1.652\n",
      "H  5.401 -2.082 -0.000\n",
      "C  2.409 -3.454 2.375\n",
      "H  3.086 -2.504 4.027\n",
      "H  0.387 -3.451 2.377\n",
      "F  0.387 -3.451 -1.402\n",
      "\n"
     ]
    }
   ],
   "source": [
    "rnd = Random()\n",
    "d = 2.0 * units.Angst\n",
    "\n",
    "x, y, z = 0.205* units.Angst,  -1.826* units.Angst,   1.258* units.Angst - d\n",
    "syst.CREATE_ATOM( Atom(U, {\"Atom_element\":\"F\", \"Atom_cm_x\":x, \"Atom_cm_y\":y, \"Atom_cm_z\":z }  )  )\n",
    "syst.LINK_ATOMS(8, 11)\n",
    "\n",
    "xyz0 = nve_md.syst2xyz(syst)\n",
    "print( xyz0)"
   ]
  },
  {
   "cell_type": "markdown",
   "metadata": {},
   "source": [
    "Lets finally optimize the guessed structure.\n",
    "\n",
    "The option \"fixed_fragment_translation\" is used to not move all the atoms other than the newly added one"
   ]
  },
  {
   "cell_type": "code",
   "execution_count": 7,
   "metadata": {},
   "outputs": [
    {
     "name": "stdout",
     "output_type": "stream",
     "text": [
      " 11 \n",
      "\n",
      "C  2.409 0.661 0.000\n",
      "H  3.084 1.614 1.652\n",
      "H  3.084 1.614 -1.652\n",
      "H  0.387 0.661 0.000\n",
      "C  3.379 -2.082 0.000\n",
      "H  2.706 -3.035 -1.652\n",
      "H  5.401 -2.082 0.000\n",
      "C  2.409 -3.454 2.375\n",
      "H  3.086 -2.504 4.027\n",
      "H  0.387 -3.451 2.377\n",
      "F  3.345 -6.178 2.385\n",
      "\n"
     ]
    }
   ],
   "source": [
    "nve_md.optimize_syst(syst, {\"anneal_schedule\":[ [1.0, 10, 100], [10.0, 10, 100] ], \"fixed_fragment_translation\":range(0,10) })\n",
    "xyz3 = nve_md.syst2xyz(syst)\n",
    "print( xyz3)"
   ]
  },
  {
   "cell_type": "markdown",
   "metadata": {},
   "source": [
    "Visualize the result"
   ]
  },
  {
   "cell_type": "code",
   "execution_count": 8,
   "metadata": {},
   "outputs": [
    {
     "data": {
      "application/3dmoljs_load.v0": "<div id=\"3dmolviewer_15657977087974834\"  style=\"position: relative; width: 800px; height: 400px\">\n        <p id=\"3dmolwarning_15657977087974834\" style=\"background-color:#ffcccc;color:black\">You appear to be running in JupyterLab (or JavaScript failed to load for some other reason).  You need to install the 3dmol extension: <br>\n        <tt>jupyter labextension install jupyterlab_3dmol</tt></p>\n        </div>\n<script>\n\nvar loadScriptAsync = function(uri){\n  return new Promise((resolve, reject) => {\n    var tag = document.createElement('script');\n    tag.src = uri;\n    tag.async = true;\n    tag.onload = () => {\n      resolve();\n    };\n  var firstScriptTag = document.getElementsByTagName('script')[0];\n  firstScriptTag.parentNode.insertBefore(tag, firstScriptTag);\n});\n};\n\nif(typeof $3Dmolpromise === 'undefined') {\n$3Dmolpromise = null;\n  $3Dmolpromise = loadScriptAsync('https://3dmol.csb.pitt.edu/build/3Dmol.js');\n}\n\nvar viewer_15657977087974834 = null;\nvar warn = document.getElementById(\"3dmolwarning_15657977087974834\");\nif(warn) {\n    warn.parentNode.removeChild(warn);\n}\n$3Dmolpromise.then(function() {\nvar viewergrid_15657977087974834 = null;\nviewergrid_15657977087974834 = $3Dmol.createViewerGrid($(\"#3dmolviewer_15657977087974834\"),{rows: 1, cols: 3, control_all: false},{backgroundColor:\"white\"});\nviewer_15657977087974834 = viewergrid_15657977087974834[0][0];\n\tviewergrid_15657977087974834[0][0].setBackgroundColor(\"0xeeeeee\");\n\tviewergrid_15657977087974834[0][1].setBackgroundColor(\"0xeeeeee\");\n\tviewergrid_15657977087974834[0][2].setBackgroundColor(\"0xeeeeee\");\n\tviewergrid_15657977087974834[0][0].zoomTo();\n\tviewergrid_15657977087974834[0][1].zoomTo();\n\tviewergrid_15657977087974834[0][2].zoomTo();\n\tviewergrid_15657977087974834[0][0].addModelsAsFrames(\" 11 \\n\\nC  2.409 0.661 0.000\\nH  3.084 1.614 1.652\\nH  3.084 1.614 -1.652\\nH  0.387 0.661 0.000\\nC  3.379 -2.082 0.000\\nH  2.706 -3.035 -1.652\\nH  5.401 -2.082 -0.000\\nC  2.409 -3.454 2.375\\nH  3.086 -2.504 4.027\\nH  0.387 -3.451 2.377\\nF  0.387 -3.451 -1.402\\n 11 \\n\\nC  2.409 0.661 0.000\\nH  3.084 1.614 1.652\\nH  3.084 1.614 -1.652\\nH  0.387 0.661 0.000\\nC  3.379 -2.082 0.000\\nH  2.706 -3.035 -1.652\\nH  5.401 -2.082 0.000\\nC  2.409 -3.454 2.375\\nH  3.086 -2.504 4.027\\nH  0.387 -3.451 2.377\\nF  3.345 -6.178 2.385\\n\",\"xyz\");\n\tviewergrid_15657977087974834[0][1].addModel(\" 11 \\n\\nC  2.409 0.661 0.000\\nH  3.084 1.614 1.652\\nH  3.084 1.614 -1.652\\nH  0.387 0.661 0.000\\nC  3.379 -2.082 0.000\\nH  2.706 -3.035 -1.652\\nH  5.401 -2.082 -0.000\\nC  2.409 -3.454 2.375\\nH  3.086 -2.504 4.027\\nH  0.387 -3.451 2.377\\nF  0.387 -3.451 -1.402\\n\",\"xyz\",{\"vibrate\": {\"frames\": 10, \"amplitude\": 1.0}});\n\tviewergrid_15657977087974834[0][2].addModel(\" 11 \\n\\nC  2.409 0.661 0.000\\nH  3.084 1.614 1.652\\nH  3.084 1.614 -1.652\\nH  0.387 0.661 0.000\\nC  3.379 -2.082 0.000\\nH  2.706 -3.035 -1.652\\nH  5.401 -2.082 0.000\\nC  2.409 -3.454 2.375\\nH  3.086 -2.504 4.027\\nH  0.387 -3.451 2.377\\nF  3.345 -6.178 2.385\\n\",\"xyz\",{\"vibrate\": {\"frames\": 10, \"amplitude\": 1.0}});\n\tviewergrid_15657977087974834[0][0].setStyle({\"sphere\": {\"colorscheme\": \"Jmol\"}});\n\tviewergrid_15657977087974834[0][1].setStyle({\"sphere\": {\"colorscheme\": \"Jmol\"}});\n\tviewergrid_15657977087974834[0][2].setStyle({\"sphere\": {\"colorscheme\": \"Jmol\"}});\n\tviewergrid_15657977087974834[0][0].animate({\"reps\": 0, \"loop\": \"backandforth\", \"step\": 1});\n\tviewergrid_15657977087974834[0][1].animate({\"reps\": 0, \"loop\": \"backandforth\", \"step\": 1});\n\tviewergrid_15657977087974834[0][2].animate({\"reps\": 0, \"loop\": \"backandforth\", \"step\": 1});\nviewergrid_15657977087974834[0][2].render();\nviewergrid_15657977087974834[0][1].render();\nviewergrid_15657977087974834[0][0].render();\n});\n</script>",
      "text/html": [
       "<div id=\"3dmolviewer_15657977087974834\"  style=\"position: relative; width: 800px; height: 400px\">\n",
       "        <p id=\"3dmolwarning_15657977087974834\" style=\"background-color:#ffcccc;color:black\">You appear to be running in JupyterLab (or JavaScript failed to load for some other reason).  You need to install the 3dmol extension: <br>\n",
       "        <tt>jupyter labextension install jupyterlab_3dmol</tt></p>\n",
       "        </div>\n",
       "<script>\n",
       "\n",
       "var loadScriptAsync = function(uri){\n",
       "  return new Promise((resolve, reject) => {\n",
       "    var tag = document.createElement('script');\n",
       "    tag.src = uri;\n",
       "    tag.async = true;\n",
       "    tag.onload = () => {\n",
       "      resolve();\n",
       "    };\n",
       "  var firstScriptTag = document.getElementsByTagName('script')[0];\n",
       "  firstScriptTag.parentNode.insertBefore(tag, firstScriptTag);\n",
       "});\n",
       "};\n",
       "\n",
       "if(typeof $3Dmolpromise === 'undefined') {\n",
       "$3Dmolpromise = null;\n",
       "  $3Dmolpromise = loadScriptAsync('https://3dmol.csb.pitt.edu/build/3Dmol.js');\n",
       "}\n",
       "\n",
       "var viewer_15657977087974834 = null;\n",
       "var warn = document.getElementById(\"3dmolwarning_15657977087974834\");\n",
       "if(warn) {\n",
       "    warn.parentNode.removeChild(warn);\n",
       "}\n",
       "$3Dmolpromise.then(function() {\n",
       "var viewergrid_15657977087974834 = null;\n",
       "viewergrid_15657977087974834 = $3Dmol.createViewerGrid($(\"#3dmolviewer_15657977087974834\"),{rows: 1, cols: 3, control_all: false},{backgroundColor:\"white\"});\n",
       "viewer_15657977087974834 = viewergrid_15657977087974834[0][0];\n",
       "\tviewergrid_15657977087974834[0][0].setBackgroundColor(\"0xeeeeee\");\n",
       "\tviewergrid_15657977087974834[0][1].setBackgroundColor(\"0xeeeeee\");\n",
       "\tviewergrid_15657977087974834[0][2].setBackgroundColor(\"0xeeeeee\");\n",
       "\tviewergrid_15657977087974834[0][0].zoomTo();\n",
       "\tviewergrid_15657977087974834[0][1].zoomTo();\n",
       "\tviewergrid_15657977087974834[0][2].zoomTo();\n",
       "\tviewergrid_15657977087974834[0][0].addModelsAsFrames(\" 11 \\n\\nC  2.409 0.661 0.000\\nH  3.084 1.614 1.652\\nH  3.084 1.614 -1.652\\nH  0.387 0.661 0.000\\nC  3.379 -2.082 0.000\\nH  2.706 -3.035 -1.652\\nH  5.401 -2.082 -0.000\\nC  2.409 -3.454 2.375\\nH  3.086 -2.504 4.027\\nH  0.387 -3.451 2.377\\nF  0.387 -3.451 -1.402\\n 11 \\n\\nC  2.409 0.661 0.000\\nH  3.084 1.614 1.652\\nH  3.084 1.614 -1.652\\nH  0.387 0.661 0.000\\nC  3.379 -2.082 0.000\\nH  2.706 -3.035 -1.652\\nH  5.401 -2.082 0.000\\nC  2.409 -3.454 2.375\\nH  3.086 -2.504 4.027\\nH  0.387 -3.451 2.377\\nF  3.345 -6.178 2.385\\n\",\"xyz\");\n",
       "\tviewergrid_15657977087974834[0][1].addModel(\" 11 \\n\\nC  2.409 0.661 0.000\\nH  3.084 1.614 1.652\\nH  3.084 1.614 -1.652\\nH  0.387 0.661 0.000\\nC  3.379 -2.082 0.000\\nH  2.706 -3.035 -1.652\\nH  5.401 -2.082 -0.000\\nC  2.409 -3.454 2.375\\nH  3.086 -2.504 4.027\\nH  0.387 -3.451 2.377\\nF  0.387 -3.451 -1.402\\n\",\"xyz\",{\"vibrate\": {\"frames\": 10, \"amplitude\": 1.0}});\n",
       "\tviewergrid_15657977087974834[0][2].addModel(\" 11 \\n\\nC  2.409 0.661 0.000\\nH  3.084 1.614 1.652\\nH  3.084 1.614 -1.652\\nH  0.387 0.661 0.000\\nC  3.379 -2.082 0.000\\nH  2.706 -3.035 -1.652\\nH  5.401 -2.082 0.000\\nC  2.409 -3.454 2.375\\nH  3.086 -2.504 4.027\\nH  0.387 -3.451 2.377\\nF  3.345 -6.178 2.385\\n\",\"xyz\",{\"vibrate\": {\"frames\": 10, \"amplitude\": 1.0}});\n",
       "\tviewergrid_15657977087974834[0][0].setStyle({\"sphere\": {\"colorscheme\": \"Jmol\"}});\n",
       "\tviewergrid_15657977087974834[0][1].setStyle({\"sphere\": {\"colorscheme\": \"Jmol\"}});\n",
       "\tviewergrid_15657977087974834[0][2].setStyle({\"sphere\": {\"colorscheme\": \"Jmol\"}});\n",
       "\tviewergrid_15657977087974834[0][0].animate({\"reps\": 0, \"loop\": \"backandforth\", \"step\": 1});\n",
       "\tviewergrid_15657977087974834[0][1].animate({\"reps\": 0, \"loop\": \"backandforth\", \"step\": 1});\n",
       "\tviewergrid_15657977087974834[0][2].animate({\"reps\": 0, \"loop\": \"backandforth\", \"step\": 1});\n",
       "viewergrid_15657977087974834[0][2].render();\n",
       "viewergrid_15657977087974834[0][1].render();\n",
       "viewergrid_15657977087974834[0][0].render();\n",
       "});\n",
       "</script>"
      ]
     },
     "metadata": {},
     "output_type": "display_data"
    }
   ],
   "source": [
    "xyzall2 = xyz0+xyz3\n",
    "\n",
    "view = py3Dmol.view(width=800,height=400, linked=False,viewergrid=(1,3)) \n",
    "view.setBackgroundColor('0xeeeeee')                                     \n",
    "view.zoomTo()                                                           \n",
    "view.addModelsAsFrames(xyzall2, 'xyz', viewer=(0,0))\n",
    "view.addModel(xyz0,'xyz',{'vibrate': {'frames':10,'amplitude':1.0}}, viewer=(0,1))\n",
    "view.addModel(xyz3,'xyz',{'vibrate': {'frames':10,'amplitude':1.0}}, viewer=(0,2))\n",
    "view.setStyle({'sphere':{'colorscheme':'Jmol', }})                        \n",
    "view.animate({'reps':0, 'loop':'backandforth', 'step':1})\n",
    "view.show() "
   ]
  },
  {
   "cell_type": "code",
   "execution_count": null,
   "metadata": {},
   "outputs": [],
   "source": []
  }
 ],
 "metadata": {
  "kernelspec": {
   "display_name": "Python 3",
   "language": "python",
   "name": "python3"
  },
  "language_info": {
   "codemirror_mode": {
    "name": "ipython",
    "version": 3
   },
   "file_extension": ".py",
   "mimetype": "text/x-python",
   "name": "python",
   "nbconvert_exporter": "python",
   "pygments_lexer": "ipython3",
   "version": "3.7.3"
  }
 },
 "nbformat": 4,
 "nbformat_minor": 2
}
