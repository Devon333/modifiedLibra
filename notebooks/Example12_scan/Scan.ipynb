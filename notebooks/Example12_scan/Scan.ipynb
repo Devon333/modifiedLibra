{
 "cells": [
  {
   "cell_type": "code",
   "execution_count": 1,
   "metadata": {},
   "outputs": [
    {
     "name": "stderr",
     "output_type": "stream",
     "text": [
      "/home/alexey/miniconda2/envs/py37/lib/python3.7/importlib/_bootstrap.py:219: RuntimeWarning: to-Python converter for std::vector<std::complex<double>, std::allocator<std::complex<double> > > already registered; second conversion method ignored.\n",
      "  return f(*args, **kwds)\n",
      "/home/alexey/miniconda2/envs/py37/lib/python3.7/importlib/_bootstrap.py:219: RuntimeWarning: to-Python converter for std::vector<std::vector<int, std::allocator<int> >, std::allocator<std::vector<int, std::allocator<int> > > > already registered; second conversion method ignored.\n",
      "  return f(*args, **kwds)\n",
      "/home/alexey/miniconda2/envs/py37/lib/python3.7/importlib/_bootstrap.py:219: RuntimeWarning: to-Python converter for boost::python::detail::container_element<std::vector<std::vector<int, std::allocator<int> >, std::allocator<std::vector<int, std::allocator<int> > > >, unsigned long, boost::python::detail::final_vector_derived_policies<std::vector<std::vector<int, std::allocator<int> >, std::allocator<std::vector<int, std::allocator<int> > > >, false> > already registered; second conversion method ignored.\n",
      "  return f(*args, **kwds)\n",
      "/home/alexey/miniconda2/envs/py37/lib/python3.7/importlib/_bootstrap.py:219: RuntimeWarning: to-Python converter for std::vector<std::vector<float, std::allocator<float> >, std::allocator<std::vector<float, std::allocator<float> > > > already registered; second conversion method ignored.\n",
      "  return f(*args, **kwds)\n",
      "/home/alexey/miniconda2/envs/py37/lib/python3.7/importlib/_bootstrap.py:219: RuntimeWarning: to-Python converter for boost::python::detail::container_element<std::vector<std::vector<float, std::allocator<float> >, std::allocator<std::vector<float, std::allocator<float> > > >, unsigned long, boost::python::detail::final_vector_derived_policies<std::vector<std::vector<float, std::allocator<float> >, std::allocator<std::vector<float, std::allocator<float> > > >, false> > already registered; second conversion method ignored.\n",
      "  return f(*args, **kwds)\n",
      "/home/alexey/miniconda2/envs/py37/lib/python3.7/importlib/_bootstrap.py:219: RuntimeWarning: to-Python converter for std::vector<std::vector<double, std::allocator<double> >, std::allocator<std::vector<double, std::allocator<double> > > > already registered; second conversion method ignored.\n",
      "  return f(*args, **kwds)\n",
      "/home/alexey/miniconda2/envs/py37/lib/python3.7/importlib/_bootstrap.py:219: RuntimeWarning: to-Python converter for boost::python::detail::container_element<std::vector<std::vector<double, std::allocator<double> >, std::allocator<std::vector<double, std::allocator<double> > > >, unsigned long, boost::python::detail::final_vector_derived_policies<std::vector<std::vector<double, std::allocator<double> >, std::allocator<std::vector<double, std::allocator<double> > > >, false> > already registered; second conversion method ignored.\n",
      "  return f(*args, **kwds)\n",
      "/home/alexey/miniconda2/envs/py37/lib/python3.7/importlib/_bootstrap.py:219: RuntimeWarning: to-Python converter for boost::python::detail::container_element<std::vector<std::vector<std::complex<double>, std::allocator<std::complex<double> > >, std::allocator<std::vector<std::complex<double>, std::allocator<std::complex<double> > > > >, unsigned long, boost::python::detail::final_vector_derived_policies<std::vector<std::vector<std::complex<double>, std::allocator<std::complex<double> > >, std::allocator<std::vector<std::complex<double>, std::allocator<std::complex<double> > > > >, false> > already registered; second conversion method ignored.\n",
      "  return f(*args, **kwds)\n"
     ]
    }
   ],
   "source": [
    "import os\n",
    "import sys\n",
    "import math\n",
    "import copy\n",
    "\n",
    "if sys.platform==\"cygwin\":\n",
    "    from cyglibra_core import *\n",
    "elif sys.platform==\"linux\" or sys.platform==\"linux2\":\n",
    "    from liblibra_core import *\n",
    "#from libra_py import *\n",
    "from libra_py import units\n",
    "from libra_py import QE_methods\n",
    "from libra_py import scan\n",
    "\n",
    "\n",
    "import py3Dmol   # molecular visualization\n",
    "import matplotlib.pyplot as plt   # plots\n",
    "%matplotlib inline \n",
    "\n",
    "plt.rc('axes', titlesize=24)      # fontsize of the axes title\n",
    "plt.rc('axes', labelsize=20)      # fontsize of the x and y labels\n",
    "plt.rc('legend', fontsize=20)     # legend fontsize\n",
    "plt.rc('xtick', labelsize=16)    # fontsize of the tick labels\n",
    "plt.rc('ytick', labelsize=16)    # fontsize of the tick labels\n",
    "\n",
    "plt.rc('figure.subplot', left=0.2)\n",
    "plt.rc('figure.subplot', right=0.95)\n",
    "plt.rc('figure.subplot', bottom=0.13)\n",
    "plt.rc('figure.subplot', top=0.88)\n",
    "\n",
    "colors = {}\n",
    "\n",
    "colors.update({\"11\": \"#8b1a0e\"})  # red       \n",
    "colors.update({\"12\": \"#FF4500\"})  # orangered \n",
    "colors.update({\"13\": \"#B22222\"})  # firebrick \n",
    "colors.update({\"14\": \"#DC143C\"})  # crimson   \n",
    "\n",
    "colors.update({\"21\": \"#5e9c36\"})  # green\n",
    "colors.update({\"22\": \"#006400\"})  # darkgreen  \n",
    "colors.update({\"23\": \"#228B22\"})  # forestgreen\n",
    "colors.update({\"24\": \"#808000\"})  # olive      \n",
    "\n",
    "colors.update({\"31\": \"#8A2BE2\"})  # blueviolet\n",
    "colors.update({\"32\": \"#00008B\"})  # darkblue  \n",
    "\n",
    "colors.update({\"41\": \"#2F4F4F\"})  # darkslategray"
   ]
  },
  {
   "cell_type": "markdown",
   "metadata": {},
   "source": [
    "## 1. CO molecule stretch\n",
    "\n",
    "Generate 2 xyz files from the lines below\n",
    "\n",
    "In general case, these files would be computed somehow.\n",
    "Coordinates are in Angstrom"
   ]
  },
  {
   "cell_type": "code",
   "execution_count": 2,
   "metadata": {},
   "outputs": [],
   "source": [
    "xyz1 = \"\"\"2\n",
    "\n",
    "C  0.0    0.0   0.0\n",
    "O  2.0    0.0   0.0\n",
    "\"\"\"\n",
    "\n",
    "xyz2 = \"\"\"2\n",
    "\n",
    "C  0.0    0.0   0.0\n",
    "O  4.0    0.0   0.0\n",
    "\"\"\"\n",
    "\n",
    "f = open(\"point1.xyz\", \"w\")\n",
    "f.write(xyz1)\n",
    "f.close()\n",
    "\n",
    "f = open(\"point2.xyz\", \"w\")\n",
    "f.write(xyz2)\n",
    "f.close()"
   ]
  },
  {
   "cell_type": "markdown",
   "metadata": {},
   "source": [
    "Read the remporary xyz files, then delete them"
   ]
  },
  {
   "cell_type": "code",
   "execution_count": 3,
   "metadata": {},
   "outputs": [
    {
     "name": "stdout",
     "output_type": "stream",
     "text": [
      "['C', 'O']\n",
      "['C', 'O']\n"
     ]
    }
   ],
   "source": [
    "PT = {\"C\":12.0, \"O\":16.0 }\n",
    "R1, E = QE_methods.read_md_data_xyz2(\"point1.xyz\", PT)\n",
    "os.system(\"rm point1.xyz\")\n",
    "print( E)\n",
    "R1.show_matrix()\n",
    "R2, E = QE_methods.read_md_data_xyz2(\"point2.xyz\", PT)\n",
    "os.system(\"rm point2.xyz\")\n",
    "print( E)\n",
    "R2.show_matrix()"
   ]
  },
  {
   "cell_type": "markdown",
   "metadata": {},
   "source": [
    "Create one path:\n",
    "\n",
    "If the original points are mapped to 0 and 1 and there are 2 intervals, each interval is ds = 0.5\n",
    "\n",
    "If the final mapping points are also 0 and 1, we have 3 points in total: 0.0, 0.5, 1.0"
   ]
  },
  {
   "cell_type": "code",
   "execution_count": 5,
   "metadata": {},
   "outputs": [
    {
     "name": "stdout",
     "output_type": "stream",
     "text": [
      "ndof =  6\n",
      "nat =  2\n",
      "ds =  0.5\n",
      "Npts =  3\n"
     ]
    }
   ],
   "source": [
    "R, allxyz, s_axis = scan.make_path_xyz(R1, R2, E, s0=0.0, s1=1.0, npts=2, S0=0.0, S1=1.0)\n",
    "#print allxyz\n",
    "#R.show_matrix()"
   ]
  },
  {
   "cell_type": "markdown",
   "metadata": {},
   "source": [
    "Now visualize the path"
   ]
  },
  {
   "cell_type": "code",
   "execution_count": 6,
   "metadata": {},
   "outputs": [
    {
     "data": {
      "application/3dmoljs_load.v0": "<div id=\"3dmolviewer_15659676366236598\"  style=\"position: relative; width: 800px; height: 400px\">\n        <p id=\"3dmolwarning_15659676366236598\" style=\"background-color:#ffcccc;color:black\">You appear to be running in JupyterLab (or JavaScript failed to load for some other reason).  You need to install the 3dmol extension: <br>\n        <tt>jupyter labextension install jupyterlab_3dmol</tt></p>\n        </div>\n<script>\n\nvar loadScriptAsync = function(uri){\n  return new Promise((resolve, reject) => {\n    var tag = document.createElement('script');\n    tag.src = uri;\n    tag.async = true;\n    tag.onload = () => {\n      resolve();\n    };\n  var firstScriptTag = document.getElementsByTagName('script')[0];\n  firstScriptTag.parentNode.insertBefore(tag, firstScriptTag);\n});\n};\n\nif(typeof $3Dmolpromise === 'undefined') {\n$3Dmolpromise = null;\n  $3Dmolpromise = loadScriptAsync('https://3dmol.csb.pitt.edu/build/3Dmol.js');\n}\n\nvar viewer_15659676366236598 = null;\nvar warn = document.getElementById(\"3dmolwarning_15659676366236598\");\nif(warn) {\n    warn.parentNode.removeChild(warn);\n}\n$3Dmolpromise.then(function() {\nviewer_15659676366236598 = $3Dmol.createViewer($(\"#3dmolviewer_15659676366236598\"),{backgroundColor:\"white\"});\n\tviewer_15659676366236598.setBackgroundColor(\"0xeeeeee\");\n\tviewer_15659676366236598.zoomTo();\n\tviewer_15659676366236598.addModelsAsFrames(\"2\\nFrame 0\\nC   0.00000   0.00000   0.00000 \\nO   2.00000   0.00000   0.00000 \\n2\\nFrame 1\\nC   0.00000   0.00000   0.00000 \\nO   3.00000   0.00000   0.00000 \\n2\\nFrame 2\\nC   0.00000   0.00000   0.00000 \\nO   4.00000   0.00000   0.00000 \\n\",\"xyz\");\n\tviewer_15659676366236598.setStyle({\"sphere\": {\"colorscheme\": \"Jmol\"}});\n\tviewer_15659676366236598.animate({\"reps\": 0, \"loop\": \"backandforward\", \"step\": 1});\nviewer_15659676366236598.render();\n});\n</script>",
      "text/html": [
       "<div id=\"3dmolviewer_15659676366236598\"  style=\"position: relative; width: 800px; height: 400px\">\n",
       "        <p id=\"3dmolwarning_15659676366236598\" style=\"background-color:#ffcccc;color:black\">You appear to be running in JupyterLab (or JavaScript failed to load for some other reason).  You need to install the 3dmol extension: <br>\n",
       "        <tt>jupyter labextension install jupyterlab_3dmol</tt></p>\n",
       "        </div>\n",
       "<script>\n",
       "\n",
       "var loadScriptAsync = function(uri){\n",
       "  return new Promise((resolve, reject) => {\n",
       "    var tag = document.createElement('script');\n",
       "    tag.src = uri;\n",
       "    tag.async = true;\n",
       "    tag.onload = () => {\n",
       "      resolve();\n",
       "    };\n",
       "  var firstScriptTag = document.getElementsByTagName('script')[0];\n",
       "  firstScriptTag.parentNode.insertBefore(tag, firstScriptTag);\n",
       "});\n",
       "};\n",
       "\n",
       "if(typeof $3Dmolpromise === 'undefined') {\n",
       "$3Dmolpromise = null;\n",
       "  $3Dmolpromise = loadScriptAsync('https://3dmol.csb.pitt.edu/build/3Dmol.js');\n",
       "}\n",
       "\n",
       "var viewer_15659676366236598 = null;\n",
       "var warn = document.getElementById(\"3dmolwarning_15659676366236598\");\n",
       "if(warn) {\n",
       "    warn.parentNode.removeChild(warn);\n",
       "}\n",
       "$3Dmolpromise.then(function() {\n",
       "viewer_15659676366236598 = $3Dmol.createViewer($(\"#3dmolviewer_15659676366236598\"),{backgroundColor:\"white\"});\n",
       "\tviewer_15659676366236598.setBackgroundColor(\"0xeeeeee\");\n",
       "\tviewer_15659676366236598.zoomTo();\n",
       "\tviewer_15659676366236598.addModelsAsFrames(\"2\\nFrame 0\\nC   0.00000   0.00000   0.00000 \\nO   2.00000   0.00000   0.00000 \\n2\\nFrame 1\\nC   0.00000   0.00000   0.00000 \\nO   3.00000   0.00000   0.00000 \\n2\\nFrame 2\\nC   0.00000   0.00000   0.00000 \\nO   4.00000   0.00000   0.00000 \\n\",\"xyz\");\n",
       "\tviewer_15659676366236598.setStyle({\"sphere\": {\"colorscheme\": \"Jmol\"}});\n",
       "\tviewer_15659676366236598.animate({\"reps\": 0, \"loop\": \"backandforward\", \"step\": 1});\n",
       "viewer_15659676366236598.render();\n",
       "});\n",
       "</script>"
      ]
     },
     "metadata": {},
     "output_type": "display_data"
    }
   ],
   "source": [
    "view = py3Dmol.view(width=800,height=400)  # linked=False,viewergrid=(3,2)\\n\n",
    "view.setBackgroundColor('0xeeeeee')                                     \n",
    "view.zoomTo()                                                           \n",
    "view.addModelsAsFrames(allxyz, 'xyz')\n",
    "view.setStyle({'sphere':{'colorscheme':'Jmol', }})                        \n",
    "view.animate({'reps':0, 'loop':'backandforward', 'step':1})\n",
    "view.show()  "
   ]
  },
  {
   "cell_type": "markdown",
   "metadata": {},
   "source": [
    "A path with more points. Also the final mapping points are selected -1 and 2, that means we'll have 7 points: -1.0, -0.5, 0.0, 0.5, 1.0, 1.5, 2.0"
   ]
  },
  {
   "cell_type": "code",
   "execution_count": 7,
   "metadata": {},
   "outputs": [
    {
     "name": "stdout",
     "output_type": "stream",
     "text": [
      "ndof =  6\n",
      "nat =  2\n",
      "ds =  0.5\n",
      "Npts =  7\n"
     ]
    },
    {
     "data": {
      "application/3dmoljs_load.v0": "<div id=\"3dmolviewer_15659676461033854\"  style=\"position: relative; width: 800px; height: 400px\">\n        <p id=\"3dmolwarning_15659676461033854\" style=\"background-color:#ffcccc;color:black\">You appear to be running in JupyterLab (or JavaScript failed to load for some other reason).  You need to install the 3dmol extension: <br>\n        <tt>jupyter labextension install jupyterlab_3dmol</tt></p>\n        </div>\n<script>\n\nvar loadScriptAsync = function(uri){\n  return new Promise((resolve, reject) => {\n    var tag = document.createElement('script');\n    tag.src = uri;\n    tag.async = true;\n    tag.onload = () => {\n      resolve();\n    };\n  var firstScriptTag = document.getElementsByTagName('script')[0];\n  firstScriptTag.parentNode.insertBefore(tag, firstScriptTag);\n});\n};\n\nif(typeof $3Dmolpromise === 'undefined') {\n$3Dmolpromise = null;\n  $3Dmolpromise = loadScriptAsync('https://3dmol.csb.pitt.edu/build/3Dmol.js');\n}\n\nvar viewer_15659676461033854 = null;\nvar warn = document.getElementById(\"3dmolwarning_15659676461033854\");\nif(warn) {\n    warn.parentNode.removeChild(warn);\n}\n$3Dmolpromise.then(function() {\nviewer_15659676461033854 = $3Dmol.createViewer($(\"#3dmolviewer_15659676461033854\"),{backgroundColor:\"white\"});\n\tviewer_15659676461033854.setBackgroundColor(\"0xeeeeee\");\n\tviewer_15659676461033854.zoomTo();\n\tviewer_15659676461033854.addModelsAsFrames(\"2\\nFrame 0\\nC   0.00000   0.00000   0.00000 \\nO   0.00000   0.00000   0.00000 \\n2\\nFrame 1\\nC   0.00000   0.00000   0.00000 \\nO   1.00000   0.00000   0.00000 \\n2\\nFrame 2\\nC   0.00000   0.00000   0.00000 \\nO   2.00000   0.00000   0.00000 \\n2\\nFrame 3\\nC   0.00000   0.00000   0.00000 \\nO   3.00000   0.00000   0.00000 \\n2\\nFrame 4\\nC   0.00000   0.00000   0.00000 \\nO   4.00000   0.00000   0.00000 \\n2\\nFrame 5\\nC   0.00000   0.00000   0.00000 \\nO   5.00000   0.00000   0.00000 \\n2\\nFrame 6\\nC   0.00000   0.00000   0.00000 \\nO   6.00000   0.00000   0.00000 \\n\",\"xyz\");\n\tviewer_15659676461033854.setStyle({\"sphere\": {\"colorscheme\": \"Jmol\"}});\n\tviewer_15659676461033854.animate({\"reps\": 0, \"loop\": \"backandforward\", \"step\": 1});\nviewer_15659676461033854.render();\n});\n</script>",
      "text/html": [
       "<div id=\"3dmolviewer_15659676461033854\"  style=\"position: relative; width: 800px; height: 400px\">\n",
       "        <p id=\"3dmolwarning_15659676461033854\" style=\"background-color:#ffcccc;color:black\">You appear to be running in JupyterLab (or JavaScript failed to load for some other reason).  You need to install the 3dmol extension: <br>\n",
       "        <tt>jupyter labextension install jupyterlab_3dmol</tt></p>\n",
       "        </div>\n",
       "<script>\n",
       "\n",
       "var loadScriptAsync = function(uri){\n",
       "  return new Promise((resolve, reject) => {\n",
       "    var tag = document.createElement('script');\n",
       "    tag.src = uri;\n",
       "    tag.async = true;\n",
       "    tag.onload = () => {\n",
       "      resolve();\n",
       "    };\n",
       "  var firstScriptTag = document.getElementsByTagName('script')[0];\n",
       "  firstScriptTag.parentNode.insertBefore(tag, firstScriptTag);\n",
       "});\n",
       "};\n",
       "\n",
       "if(typeof $3Dmolpromise === 'undefined') {\n",
       "$3Dmolpromise = null;\n",
       "  $3Dmolpromise = loadScriptAsync('https://3dmol.csb.pitt.edu/build/3Dmol.js');\n",
       "}\n",
       "\n",
       "var viewer_15659676461033854 = null;\n",
       "var warn = document.getElementById(\"3dmolwarning_15659676461033854\");\n",
       "if(warn) {\n",
       "    warn.parentNode.removeChild(warn);\n",
       "}\n",
       "$3Dmolpromise.then(function() {\n",
       "viewer_15659676461033854 = $3Dmol.createViewer($(\"#3dmolviewer_15659676461033854\"),{backgroundColor:\"white\"});\n",
       "\tviewer_15659676461033854.setBackgroundColor(\"0xeeeeee\");\n",
       "\tviewer_15659676461033854.zoomTo();\n",
       "\tviewer_15659676461033854.addModelsAsFrames(\"2\\nFrame 0\\nC   0.00000   0.00000   0.00000 \\nO   0.00000   0.00000   0.00000 \\n2\\nFrame 1\\nC   0.00000   0.00000   0.00000 \\nO   1.00000   0.00000   0.00000 \\n2\\nFrame 2\\nC   0.00000   0.00000   0.00000 \\nO   2.00000   0.00000   0.00000 \\n2\\nFrame 3\\nC   0.00000   0.00000   0.00000 \\nO   3.00000   0.00000   0.00000 \\n2\\nFrame 4\\nC   0.00000   0.00000   0.00000 \\nO   4.00000   0.00000   0.00000 \\n2\\nFrame 5\\nC   0.00000   0.00000   0.00000 \\nO   5.00000   0.00000   0.00000 \\n2\\nFrame 6\\nC   0.00000   0.00000   0.00000 \\nO   6.00000   0.00000   0.00000 \\n\",\"xyz\");\n",
       "\tviewer_15659676461033854.setStyle({\"sphere\": {\"colorscheme\": \"Jmol\"}});\n",
       "\tviewer_15659676461033854.animate({\"reps\": 0, \"loop\": \"backandforward\", \"step\": 1});\n",
       "viewer_15659676461033854.render();\n",
       "});\n",
       "</script>"
      ]
     },
     "metadata": {},
     "output_type": "display_data"
    }
   ],
   "source": [
    "s0, s1 = 0.0, 1.0\n",
    "npts = 2\n",
    "S0, S1 = -1.0, 2.0\n",
    "R, allxyz, s_axis = scan.make_path_xyz(R1, R2, E, s0, s1, npts, S0, S1)\n",
    "\n",
    "view = py3Dmol.view(width=800,height=400)  # linked=False,viewergrid=(3,2)\\n\n",
    "view.setBackgroundColor('0xeeeeee')                                     \n",
    "view.zoomTo()                                                           \n",
    "view.addModelsAsFrames(allxyz, 'xyz')\n",
    "view.setStyle({'sphere':{'colorscheme':'Jmol', }})                        \n",
    "view.animate({'reps':0, 'loop':'backandforward', 'step':1})\n",
    "view.show()  "
   ]
  },
  {
   "cell_type": "markdown",
   "metadata": {},
   "source": [
    "## 2. H2O molecule (or almost) bend "
   ]
  },
  {
   "cell_type": "code",
   "execution_count": 8,
   "metadata": {},
   "outputs": [],
   "source": [
    "r = 2.0 \n",
    "theta = math.radians(30.0)\n",
    "x1 = r * math.cos(theta)\n",
    "x2 = -x1\n",
    "y1 = r * math.sin(theta)\n",
    "y2 = y1\n",
    "\n",
    "xyz1 = \"\"\"3\n",
    "\n",
    "O  0.0    0.0   0.0\n",
    "H  %5.3f  %5.3f   0.0\n",
    "H  %5.3f  %5.3f   0.0\n",
    "\"\"\" % (x1, y1, x2, y2)\n",
    "\n",
    "theta = math.radians(60.0)\n",
    "x1 = r * math.cos(theta)\n",
    "x2 = -x1\n",
    "y1 = r * math.sin(theta)\n",
    "y2 = y1\n",
    "\n",
    "xyz2 = \"\"\"3\n",
    "\n",
    "O  0.0    0.0   0.0\n",
    "H  %5.3f  %5.3f   0.0\n",
    "H  %5.3f  %5.3f   0.0\n",
    "\"\"\" % (x1, y1, x2, y2)\n",
    "\n",
    "\n",
    "f = open(\"point1.xyz\", \"w\")\n",
    "f.write(xyz1)\n",
    "f.close()\n",
    "\n",
    "f = open(\"point2.xyz\", \"w\")\n",
    "f.write(xyz2)\n",
    "f.close()"
   ]
  },
  {
   "cell_type": "code",
   "execution_count": 10,
   "metadata": {},
   "outputs": [
    {
     "name": "stdout",
     "output_type": "stream",
     "text": [
      "ndof =  9\n",
      "nat =  3\n",
      "ds =  0.5\n",
      "Npts =  3\n"
     ]
    },
    {
     "data": {
      "application/3dmoljs_load.v0": "<div id=\"3dmolviewer_15659676829571445\"  style=\"position: relative; width: 800px; height: 400px\">\n        <p id=\"3dmolwarning_15659676829571445\" style=\"background-color:#ffcccc;color:black\">You appear to be running in JupyterLab (or JavaScript failed to load for some other reason).  You need to install the 3dmol extension: <br>\n        <tt>jupyter labextension install jupyterlab_3dmol</tt></p>\n        </div>\n<script>\n\nvar loadScriptAsync = function(uri){\n  return new Promise((resolve, reject) => {\n    var tag = document.createElement('script');\n    tag.src = uri;\n    tag.async = true;\n    tag.onload = () => {\n      resolve();\n    };\n  var firstScriptTag = document.getElementsByTagName('script')[0];\n  firstScriptTag.parentNode.insertBefore(tag, firstScriptTag);\n});\n};\n\nif(typeof $3Dmolpromise === 'undefined') {\n$3Dmolpromise = null;\n  $3Dmolpromise = loadScriptAsync('https://3dmol.csb.pitt.edu/build/3Dmol.js');\n}\n\nvar viewer_15659676829571445 = null;\nvar warn = document.getElementById(\"3dmolwarning_15659676829571445\");\nif(warn) {\n    warn.parentNode.removeChild(warn);\n}\n$3Dmolpromise.then(function() {\nviewer_15659676829571445 = $3Dmol.createViewer($(\"#3dmolviewer_15659676829571445\"),{backgroundColor:\"white\"});\n\tviewer_15659676829571445.setBackgroundColor(\"0xeeeeee\");\n\tviewer_15659676829571445.zoomTo();\n\tviewer_15659676829571445.addModelsAsFrames(\"3\\nFrame 0\\nO   0.00000   0.00000   0.00000 \\nH   1.73200   1.00000   0.00000 \\nH  -1.73200   1.00000   0.00000 \\n3\\nFrame 1\\nO   0.00000   0.00000   0.00000 \\nH   1.36600   1.36600   0.00000 \\nH  -1.36600   1.36600   0.00000 \\n3\\nFrame 2\\nO   0.00000   0.00000   0.00000 \\nH   1.00000   1.73200   0.00000 \\nH  -1.00000   1.73200   0.00000 \\n\",\"xyz\");\n\tviewer_15659676829571445.setStyle({\"sphere\": {\"colorscheme\": \"Jmol\"}});\n\tviewer_15659676829571445.animate({\"reps\": 0, \"loop\": \"backandforward\", \"step\": 1});\nviewer_15659676829571445.render();\n});\n</script>",
      "text/html": [
       "<div id=\"3dmolviewer_15659676829571445\"  style=\"position: relative; width: 800px; height: 400px\">\n",
       "        <p id=\"3dmolwarning_15659676829571445\" style=\"background-color:#ffcccc;color:black\">You appear to be running in JupyterLab (or JavaScript failed to load for some other reason).  You need to install the 3dmol extension: <br>\n",
       "        <tt>jupyter labextension install jupyterlab_3dmol</tt></p>\n",
       "        </div>\n",
       "<script>\n",
       "\n",
       "var loadScriptAsync = function(uri){\n",
       "  return new Promise((resolve, reject) => {\n",
       "    var tag = document.createElement('script');\n",
       "    tag.src = uri;\n",
       "    tag.async = true;\n",
       "    tag.onload = () => {\n",
       "      resolve();\n",
       "    };\n",
       "  var firstScriptTag = document.getElementsByTagName('script')[0];\n",
       "  firstScriptTag.parentNode.insertBefore(tag, firstScriptTag);\n",
       "});\n",
       "};\n",
       "\n",
       "if(typeof $3Dmolpromise === 'undefined') {\n",
       "$3Dmolpromise = null;\n",
       "  $3Dmolpromise = loadScriptAsync('https://3dmol.csb.pitt.edu/build/3Dmol.js');\n",
       "}\n",
       "\n",
       "var viewer_15659676829571445 = null;\n",
       "var warn = document.getElementById(\"3dmolwarning_15659676829571445\");\n",
       "if(warn) {\n",
       "    warn.parentNode.removeChild(warn);\n",
       "}\n",
       "$3Dmolpromise.then(function() {\n",
       "viewer_15659676829571445 = $3Dmol.createViewer($(\"#3dmolviewer_15659676829571445\"),{backgroundColor:\"white\"});\n",
       "\tviewer_15659676829571445.setBackgroundColor(\"0xeeeeee\");\n",
       "\tviewer_15659676829571445.zoomTo();\n",
       "\tviewer_15659676829571445.addModelsAsFrames(\"3\\nFrame 0\\nO   0.00000   0.00000   0.00000 \\nH   1.73200   1.00000   0.00000 \\nH  -1.73200   1.00000   0.00000 \\n3\\nFrame 1\\nO   0.00000   0.00000   0.00000 \\nH   1.36600   1.36600   0.00000 \\nH  -1.36600   1.36600   0.00000 \\n3\\nFrame 2\\nO   0.00000   0.00000   0.00000 \\nH   1.00000   1.73200   0.00000 \\nH  -1.00000   1.73200   0.00000 \\n\",\"xyz\");\n",
       "\tviewer_15659676829571445.setStyle({\"sphere\": {\"colorscheme\": \"Jmol\"}});\n",
       "\tviewer_15659676829571445.animate({\"reps\": 0, \"loop\": \"backandforward\", \"step\": 1});\n",
       "viewer_15659676829571445.render();\n",
       "});\n",
       "</script>"
      ]
     },
     "metadata": {},
     "output_type": "display_data"
    }
   ],
   "source": [
    "PT = {\"H\":1.0, \"O\":16.0 }\n",
    "R1, E = QE_methods.read_md_data_xyz2(\"point1.xyz\", PT)\n",
    "os.system(\"rm point1.xyz\")\n",
    "R2, E = QE_methods.read_md_data_xyz2(\"point2.xyz\", PT)\n",
    "os.system(\"rm point2.xyz\")\n",
    "\n",
    "\n",
    "s0, s1 = 0.0, 1.0\n",
    "npts = 2\n",
    "S0, S1 = 0.0, 1.0\n",
    "R, allxyz, s_axis = scan.make_path_xyz(R1, R2, E, s0, s1, npts, S0, S1)\n",
    "\n",
    "\n",
    "view = py3Dmol.view(width=800,height=400)  # linked=False,viewergrid=(3,2)\\n\n",
    "view.setBackgroundColor('0xeeeeee')                                     \n",
    "view.zoomTo()                                                           \n",
    "view.addModelsAsFrames(allxyz, 'xyz')\n",
    "view.setStyle({'sphere':{'colorscheme':'Jmol', }})                        \n",
    "view.animate({'reps':0, 'loop':'backandforward', 'step':1})\n",
    "view.show()  "
   ]
  },
  {
   "cell_type": "code",
   "execution_count": null,
   "metadata": {},
   "outputs": [],
   "source": []
  }
 ],
 "metadata": {
  "kernelspec": {
   "display_name": "Python 3",
   "language": "python",
   "name": "python3"
  },
  "language_info": {
   "codemirror_mode": {
    "name": "ipython",
    "version": 3
   },
   "file_extension": ".py",
   "mimetype": "text/x-python",
   "name": "python",
   "nbconvert_exporter": "python",
   "pygments_lexer": "ipython3",
   "version": "3.7.3"
  }
 },
 "nbformat": 4,
 "nbformat_minor": 2
}
