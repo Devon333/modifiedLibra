{
 "cells": [
  {
   "cell_type": "code",
   "execution_count": 1,
   "metadata": {
    "scrolled": false
   },
   "outputs": [
    {
     "name": "stderr",
     "output_type": "stream",
     "text": [
      "/home/alexey/miniconda2/envs/py37/lib/python3.7/importlib/_bootstrap.py:219: RuntimeWarning: to-Python converter for std::vector<std::complex<double>, std::allocator<std::complex<double> > > already registered; second conversion method ignored.\n",
      "  return f(*args, **kwds)\n",
      "/home/alexey/miniconda2/envs/py37/lib/python3.7/importlib/_bootstrap.py:219: RuntimeWarning: to-Python converter for std::vector<std::vector<int, std::allocator<int> >, std::allocator<std::vector<int, std::allocator<int> > > > already registered; second conversion method ignored.\n",
      "  return f(*args, **kwds)\n",
      "/home/alexey/miniconda2/envs/py37/lib/python3.7/importlib/_bootstrap.py:219: RuntimeWarning: to-Python converter for boost::python::detail::container_element<std::vector<std::vector<int, std::allocator<int> >, std::allocator<std::vector<int, std::allocator<int> > > >, unsigned long, boost::python::detail::final_vector_derived_policies<std::vector<std::vector<int, std::allocator<int> >, std::allocator<std::vector<int, std::allocator<int> > > >, false> > already registered; second conversion method ignored.\n",
      "  return f(*args, **kwds)\n",
      "/home/alexey/miniconda2/envs/py37/lib/python3.7/importlib/_bootstrap.py:219: RuntimeWarning: to-Python converter for std::vector<std::vector<float, std::allocator<float> >, std::allocator<std::vector<float, std::allocator<float> > > > already registered; second conversion method ignored.\n",
      "  return f(*args, **kwds)\n",
      "/home/alexey/miniconda2/envs/py37/lib/python3.7/importlib/_bootstrap.py:219: RuntimeWarning: to-Python converter for boost::python::detail::container_element<std::vector<std::vector<float, std::allocator<float> >, std::allocator<std::vector<float, std::allocator<float> > > >, unsigned long, boost::python::detail::final_vector_derived_policies<std::vector<std::vector<float, std::allocator<float> >, std::allocator<std::vector<float, std::allocator<float> > > >, false> > already registered; second conversion method ignored.\n",
      "  return f(*args, **kwds)\n",
      "/home/alexey/miniconda2/envs/py37/lib/python3.7/importlib/_bootstrap.py:219: RuntimeWarning: to-Python converter for std::vector<std::vector<double, std::allocator<double> >, std::allocator<std::vector<double, std::allocator<double> > > > already registered; second conversion method ignored.\n",
      "  return f(*args, **kwds)\n",
      "/home/alexey/miniconda2/envs/py37/lib/python3.7/importlib/_bootstrap.py:219: RuntimeWarning: to-Python converter for boost::python::detail::container_element<std::vector<std::vector<double, std::allocator<double> >, std::allocator<std::vector<double, std::allocator<double> > > >, unsigned long, boost::python::detail::final_vector_derived_policies<std::vector<std::vector<double, std::allocator<double> >, std::allocator<std::vector<double, std::allocator<double> > > >, false> > already registered; second conversion method ignored.\n",
      "  return f(*args, **kwds)\n",
      "/home/alexey/miniconda2/envs/py37/lib/python3.7/importlib/_bootstrap.py:219: RuntimeWarning: to-Python converter for boost::python::detail::container_element<std::vector<std::vector<std::complex<double>, std::allocator<std::complex<double> > >, std::allocator<std::vector<std::complex<double>, std::allocator<std::complex<double> > > > >, unsigned long, boost::python::detail::final_vector_derived_policies<std::vector<std::vector<std::complex<double>, std::allocator<std::complex<double> > >, std::allocator<std::vector<std::complex<double>, std::allocator<std::complex<double> > > > >, false> > already registered; second conversion method ignored.\n",
      "  return f(*args, **kwds)\n"
     ]
    }
   ],
   "source": [
    "import os\n",
    "import sys\n",
    "\n",
    "# Fisrt, we add the location of the library to test to the PYTHON path\n",
    "if sys.platform==\"cygwin\":\n",
    "    from cyglibra_core import *\n",
    "elif sys.platform==\"linux\" or sys.platform==\"linux2\":\n",
    "    from liblibra_core import *\n",
    "from libra_py import DFTB_methods\n",
    "from libra_py import units\n"
   ]
  },
  {
   "cell_type": "code",
   "execution_count": 2,
   "metadata": {},
   "outputs": [],
   "source": [
    "def do_step(i, EXE, norbs):\n",
    "    \n",
    "    # normal size of the active space (AO basis)\n",
    "    act_sp = list(range(0,norbs))\n",
    "    \n",
    "    # Make an input file for SP calculations \n",
    "    DFTB_methods.xyz_traj2gen_sp(\"md.xyz\", \"x1.gen\", i, \"C\")\n",
    "\n",
    "    # Run SCF calculations and generate the charge density for a converged calculations\n",
    "    # The file x1.gen is used as a geometry\n",
    "    os.system(\"cp dftb_in_ham1.hsd dftb_in.hsd\")\n",
    "    os.system( \"%s\" % EXE )\n",
    "\n",
    "    # Just generate the Hamiltonian corresponding to the converged density matrix\n",
    "    os.system(\"cp dftb_in_ham2.hsd dftb_in.hsd\")\n",
    "    os.system( \"%s\" % EXE )\n",
    "\n",
    "    # Get the Hamiltonian    \n",
    "    Hi = DFTB_methods.get_dftb_matrices(\"hamsqr1.dat\", act_sp, act_sp)    \n",
    "    Si = DFTB_methods.get_dftb_matrices(\"oversqr.dat\", act_sp, act_sp) \n",
    "    Ei = CMATRIX(norbs, norbs)\n",
    "    MOi = CMATRIX(norbs, norbs)\n",
    "    solve_eigen(Hi[0], Si[0], Ei, MOi, 0)  # gamma-point only at time i\n",
    "    \n",
    "    return Ei, MOi\n",
    "\n",
    "\n",
    "def do_ovlp(i, EXE, norbs):\n",
    "        \n",
    "    # Make an input file for the overlap calculations \n",
    "    DFTB_methods.xyz_traj2gen_ovlp(\"md.xyz\", \"x2.gen\", i, i+1, \"C\")\n",
    "    \n",
    "    # Run SCF calculations and generate the charge density for a converged calculations\n",
    "    # The file x2.gen is used as a geometry\n",
    "    os.system(\"cp dftb_in_overlaps.hsd dftb_in.hsd\")\n",
    "    os.system( \"%s\" % EXE )\n",
    "\n",
    "    # Get the Hamiltonian    \n",
    "    act_sp = list(range(0,2*norbs))\n",
    "    Sbig = DFTB_methods.get_dftb_matrices(\"oversqr.dat\", act_sp, act_sp)    \n",
    "    \n",
    "    act_sp1 = list(range(0,norbs))\n",
    "    act_sp2 = list(range(norbs,2*norbs))\n",
    "    S = CMATRIX(norbs, norbs)\n",
    "    pop_submatrix(Sbig[0], S, act_sp1, act_sp2)\n",
    "    \n",
    "    return S\n",
    "    \n",
    "    \n",
    "    \n",
    "def run_step2(nsteps, EXE, norbs, dt):\n",
    "\n",
    "    U_curr = CMATRIX(norbs, norbs)\n",
    "    U_next = CMATRIX(norbs, norbs)\n",
    "    E_curr = CMATRIX(norbs, norbs)\n",
    "    E_next = CMATRIX(norbs, norbs)\n",
    "        \n",
    "    act_sp1 = list(range(0,norbs))  # normal size of the active space (AO basis)\n",
    "    \n",
    "    E_curr, U_curr = do_step(0, EXE, norbs)\n",
    "    \n",
    "    for i in range(1,nsteps-1):\n",
    "        E_next, U_next = do_step(i, EXE, norbs)\n",
    "        S = do_ovlp(i, EXE, norbs)\n",
    "        \n",
    "        TDM = U_curr.H() * S * U_next\n",
    "        Hvib = 0.5*(E_curr + E_next) - (0.5j/dt) * ( TDM - TDM.H() )\n",
    "        \n",
    "        \n",
    "        Hvib.real().show_matrix(\"res/hvib_%i_re\" % (i) )\n",
    "        Hvib.imag().show_matrix(\"res/hvib_%i_im\" % (i) )\n",
    "        \n",
    "        # Current becomes the old \n",
    "        E_curr = CMATRIX(E_next)\n",
    "        U_curr = CMATRIX(U_next)\n",
    "        "
   ]
  },
  {
   "cell_type": "code",
   "execution_count": 3,
   "metadata": {},
   "outputs": [],
   "source": [
    "EXE = \"/mnt/c/cygwin/home/Alexey-user/Soft/dftb/dftbplus-18.2.x86_64-linux/bin/dftb+\"\n",
    "nsteps = 5\n",
    "norbs = 87\n",
    "dt = 1.0 * units.fs2au\n",
    "\n",
    "\n",
    "os.system(\"mkdir res\")\n",
    "run_step2(nsteps, EXE, norbs, dt)"
   ]
  }
 ],
 "metadata": {
  "kernelspec": {
   "display_name": "Python 3",
   "language": "python",
   "name": "python3"
  },
  "language_info": {
   "codemirror_mode": {
    "name": "ipython",
    "version": 3
   },
   "file_extension": ".py",
   "mimetype": "text/x-python",
   "name": "python",
   "nbconvert_exporter": "python",
   "pygments_lexer": "ipython3",
   "version": "3.7.3"
  }
 },
 "nbformat": 4,
 "nbformat_minor": 2
}
