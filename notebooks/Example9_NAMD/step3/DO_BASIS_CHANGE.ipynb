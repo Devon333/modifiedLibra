{
 "cells": [
  {
   "cell_type": "markdown",
   "metadata": {},
   "source": [
    "# DO BASIS CHANGE\n",
    "\n",
    "This file demonstrates how to convert the bunch of the files (overlaps, transition density matrices, and vibronic Hamiltonians in the KS basis) generated in the step2 to vibronic Hamiltonian files in the basis of configuration interaction (CI) functions composed of Slater Determinants (SD)\n",
    "\n",
    "To start, lets import the required modules"
   ]
  },
  {
   "cell_type": "code",
   "execution_count": 1,
   "metadata": {
    "scrolled": true
   },
   "outputs": [
    {
     "name": "stderr",
     "output_type": "stream",
     "text": [
      "/home/alexey/miniconda2/envs/py37/lib/python3.7/importlib/_bootstrap.py:219: RuntimeWarning: to-Python converter for std::vector<std::complex<double>, std::allocator<std::complex<double> > > already registered; second conversion method ignored.\n",
      "  return f(*args, **kwds)\n",
      "/home/alexey/miniconda2/envs/py37/lib/python3.7/importlib/_bootstrap.py:219: RuntimeWarning: to-Python converter for std::vector<std::vector<int, std::allocator<int> >, std::allocator<std::vector<int, std::allocator<int> > > > already registered; second conversion method ignored.\n",
      "  return f(*args, **kwds)\n",
      "/home/alexey/miniconda2/envs/py37/lib/python3.7/importlib/_bootstrap.py:219: RuntimeWarning: to-Python converter for boost::python::detail::container_element<std::vector<std::vector<int, std::allocator<int> >, std::allocator<std::vector<int, std::allocator<int> > > >, unsigned long, boost::python::detail::final_vector_derived_policies<std::vector<std::vector<int, std::allocator<int> >, std::allocator<std::vector<int, std::allocator<int> > > >, false> > already registered; second conversion method ignored.\n",
      "  return f(*args, **kwds)\n",
      "/home/alexey/miniconda2/envs/py37/lib/python3.7/importlib/_bootstrap.py:219: RuntimeWarning: to-Python converter for std::vector<std::vector<float, std::allocator<float> >, std::allocator<std::vector<float, std::allocator<float> > > > already registered; second conversion method ignored.\n",
      "  return f(*args, **kwds)\n",
      "/home/alexey/miniconda2/envs/py37/lib/python3.7/importlib/_bootstrap.py:219: RuntimeWarning: to-Python converter for boost::python::detail::container_element<std::vector<std::vector<float, std::allocator<float> >, std::allocator<std::vector<float, std::allocator<float> > > >, unsigned long, boost::python::detail::final_vector_derived_policies<std::vector<std::vector<float, std::allocator<float> >, std::allocator<std::vector<float, std::allocator<float> > > >, false> > already registered; second conversion method ignored.\n",
      "  return f(*args, **kwds)\n",
      "/home/alexey/miniconda2/envs/py37/lib/python3.7/importlib/_bootstrap.py:219: RuntimeWarning: to-Python converter for std::vector<std::vector<double, std::allocator<double> >, std::allocator<std::vector<double, std::allocator<double> > > > already registered; second conversion method ignored.\n",
      "  return f(*args, **kwds)\n",
      "/home/alexey/miniconda2/envs/py37/lib/python3.7/importlib/_bootstrap.py:219: RuntimeWarning: to-Python converter for boost::python::detail::container_element<std::vector<std::vector<double, std::allocator<double> >, std::allocator<std::vector<double, std::allocator<double> > > >, unsigned long, boost::python::detail::final_vector_derived_policies<std::vector<std::vector<double, std::allocator<double> >, std::allocator<std::vector<double, std::allocator<double> > > >, false> > already registered; second conversion method ignored.\n",
      "  return f(*args, **kwds)\n",
      "/home/alexey/miniconda2/envs/py37/lib/python3.7/importlib/_bootstrap.py:219: RuntimeWarning: to-Python converter for boost::python::detail::container_element<std::vector<std::vector<std::complex<double>, std::allocator<std::complex<double> > >, std::allocator<std::vector<std::complex<double>, std::allocator<std::complex<double> > > > >, unsigned long, boost::python::detail::final_vector_derived_policies<std::vector<std::vector<std::complex<double>, std::allocator<std::complex<double> > >, std::allocator<std::vector<std::complex<double>, std::allocator<std::complex<double> > > > >, false> > already registered; second conversion method ignored.\n",
      "  return f(*args, **kwds)\n"
     ]
    }
   ],
   "source": [
    "import os\n",
    "import sys\n",
    "\n",
    "# Fisrt, we add the location of the library to test to the PYTHON path\n",
    "if sys.platform==\"cygwin\":\n",
    "    from cyglibra_core import *\n",
    "elif sys.platform==\"linux\" or sys.platform==\"linux2\":\n",
    "    from liblibra_core import *\n",
    "    \n",
    "\n",
    "from libra_py import hpc_utils\n",
    "from libra_py import data_read\n",
    "from libra_py import data_outs\n",
    "from libra_py import units\n",
    "from libra_py import QE_methods\n",
    "from libra_py.workflows.nbra import step3\n",
    "#import libra_py.workflows.nbra.step2_analysis as step2a\n",
    "\n",
    "#import numpy as np\n",
    "#from matplotlib.mlab import griddata\n",
    "\n",
    "import matplotlib.pyplot as plt   # plots\n",
    "%matplotlib inline \n",
    "\n",
    "plt.rc('axes', titlesize=24)      # fontsize of the axes title\n",
    "plt.rc('axes', labelsize=20)      # fontsize of the x and y labels\n",
    "plt.rc('legend', fontsize=20)     # legend fontsize\n",
    "plt.rc('xtick', labelsize=16)    # fontsize of the tick labels\n",
    "plt.rc('ytick', labelsize=16)    # fontsize of the tick labels\n",
    "\n",
    "plt.rc('figure.subplot', left=0.2)\n",
    "plt.rc('figure.subplot', right=0.95)\n",
    "plt.rc('figure.subplot', bottom=0.13)\n",
    "plt.rc('figure.subplot', top=0.88)\n",
    "\n",
    "colors = {}\n",
    "\n",
    "colors.update({\"11\": \"#8b1a0e\"})  # red       \n",
    "colors.update({\"12\": \"#FF4500\"})  # orangered \n",
    "colors.update({\"13\": \"#B22222\"})  # firebrick \n",
    "colors.update({\"14\": \"#DC143C\"})  # crimson   \n",
    "\n",
    "colors.update({\"21\": \"#5e9c36\"})  # green\n",
    "colors.update({\"22\": \"#006400\"})  # darkgreen  \n",
    "colors.update({\"23\": \"#228B22\"})  # forestgreen\n",
    "colors.update({\"24\": \"#808000\"})  # olive      \n",
    "\n",
    "colors.update({\"31\": \"#8A2BE2\"})  # blueviolet\n",
    "colors.update({\"32\": \"#00008B\"})  # darkblue  \n",
    "\n",
    "colors.update({\"41\": \"#2F4F4F\"})  # darkslategray\n",
    "\n",
    "clrs_index = [\"11\", \"21\", \"31\", \"41\", \"12\", \"22\", \"32\", \"13\",\"23\", \"14\", \"24\"]"
   ]
  },
  {
   "cell_type": "markdown",
   "metadata": {},
   "source": [
    "Lets read in the files\n",
    "\n",
    "In my case, the files contain 40 x 40 matrices, which are composed of 20 x 20 blocks of alpha and beta orbitals.\n",
    "\n",
    "In this set of spin-orbitals, the orbital with index 28 is the alpha-HOMO. \n",
    "\n",
    "Assume we only need HOMO-1, HOMO, LUMO and LUMO+1 alpha-spin orbitals, so we can define this by setting the \"active_space\" parameter to the list \\[27, 28, 29, 30\\]\n"
   ]
  },
  {
   "cell_type": "code",
   "execution_count": 2,
   "metadata": {},
   "outputs": [],
   "source": [
    "params = { \"data_set_paths\" : [os.getcwd()+\"/traj1_in/\"],\n",
    "           \"data_dim\":40, \"active_space\":[27, 28, 29, 30],\n",
    "           \"isnap\":0,  \"fsnap\":10,         \n",
    "           \"data_re_prefix\" : \"S_dia_ks_\", \"data_re_suffix\" : \"_re\",\n",
    "           \"data_im_prefix\" : \"S_dia_ks_\", \"data_im_suffix\" : \"_im\"  }\n",
    "S = data_read.get_data_sets(params)\n",
    "\n",
    "params.update({ \"data_re_prefix\" : \"St_dia_ks_\", \"data_re_suffix\" : \"_re\",\n",
    "                \"data_im_prefix\" : \"St_dia_ks_\", \"data_im_suffix\" : \"_im\"  } ) \n",
    "St = data_read.get_data_sets(params)\n",
    "\n",
    "params.update({ \"data_re_prefix\" : \"hvib_dia_\", \"data_re_suffix\" : \"_re\",\n",
    "                \"data_im_prefix\" : \"hvib_dia_\", \"data_im_suffix\" : \"_im\"  } ) \n",
    "Hvib_ks = data_read.get_data_sets(params)"
   ]
  },
  {
   "cell_type": "markdown",
   "metadata": {},
   "source": [
    "Prepare the folder for the final results"
   ]
  },
  {
   "cell_type": "code",
   "execution_count": 3,
   "metadata": {},
   "outputs": [
    {
     "data": {
      "text/plain": [
       "0"
      ]
     },
     "execution_count": 3,
     "metadata": {},
     "output_type": "execute_result"
    }
   ],
   "source": [
    "# Remove the previous results and temporary working directory from the previous runs\n",
    "os.system(\"rm -r traj1_out\")\n",
    "\n",
    "# Create the new results directory\n",
    "os.system(\"mkdir traj1_out\")"
   ]
  },
  {
   "cell_type": "markdown",
   "metadata": {},
   "source": [
    "Setup the parameters for the SD construction and for the construction of their superpositions\n",
    "\n",
    "In the above definition, we have included only HOMO-1, HOMO, LUMO and LUMO+1 orbitals in the calculations. They shall have 4 electrons on them, so the entries defining the SD basis will all contain 4 numbers. Note that the lowest number is 1, not 0.\n",
    "\n",
    "We will include only 3 SD states: a) GS (just 2 orbitals are occupied), b) HOMO -> LUMO, and c) HOMO -> LUMO+1 transitions with the beta electrons.\n",
    "\n",
    "We will not add any enery corrections to the resulting SDs.\n",
    "\n",
    "Also, here we'll use the simplest CIs - those that contain only one of each defined SDs (the Pyxaid-style states)"
   ]
  },
  {
   "cell_type": "code",
   "execution_count": 4,
   "metadata": {},
   "outputs": [],
   "source": [
    "params = { \"SD_basis\" : [ [1, -1, 2, -2], [1, -1, 2, -3], [1, -1, 2, -4] ],\n",
    "           \"SD_energy_corr\" : [0.0, 0.0, 0.0],\n",
    "           \"CI_basis\" : [ [1.0, 0.0, 0.0],\n",
    "                          [0.0, 1.0, 0.0],\n",
    "                          [0.0, 0.0, 1.0]\n",
    "                        ],\n",
    "          \"output_set_paths\" : [os.getcwd()+\"/traj1_out/\"], \n",
    "          \"dt\" : 1.0*units.fs2au,\n",
    "          \"do_othogonalization\":1,\n",
    "          \"do_state_reordering\":2,\n",
    "          \"do_phase_correction\":1,\n",
    "          \"do_output\" : 1,\n",
    "          \"Hvib_re_prefix\":\"Hvib_\",  \"Hvib_re_suffix\":\"_re\",\n",
    "          \"Hvib_im_prefix\":\"Hvib_\",  \"Hvib_im_suffix\":\"_im\"\n",
    "         }\n",
    "\n",
    "Hvib = step3.run(S, St, Hvib_ks, params)"
   ]
  },
  {
   "cell_type": "code",
   "execution_count": null,
   "metadata": {},
   "outputs": [],
   "source": []
  }
 ],
 "metadata": {
  "kernelspec": {
   "display_name": "Python 3",
   "language": "python",
   "name": "python3"
  },
  "language_info": {
   "codemirror_mode": {
    "name": "ipython",
    "version": 3
   },
   "file_extension": ".py",
   "mimetype": "text/x-python",
   "name": "python",
   "nbconvert_exporter": "python",
   "pygments_lexer": "ipython3",
   "version": "3.7.3"
  }
 },
 "nbformat": 4,
 "nbformat_minor": 2
}
